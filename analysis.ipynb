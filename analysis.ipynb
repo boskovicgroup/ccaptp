{
 "cells": [
  {
   "cell_type": "code",
   "execution_count": 675,
   "metadata": {
    "collapsed": false
   },
   "outputs": [
    {
     "ename": "ModuleNotFoundError",
     "evalue": "No module named 'bottchercomplexity'",
     "output_type": "error",
     "traceback": [
      "\u001b[0;31m\u001b[0m",
      "\u001b[0;31mModuleNotFoundError\u001b[0mTraceback (most recent call last)",
      "\u001b[0;32m<ipython-input-675-5dc027fdd98c>\u001b[0m in \u001b[0;36m<module>\u001b[0;34m\u001b[0m\n\u001b[1;32m     22\u001b[0m \u001b[0;32mimport\u001b[0m \u001b[0mmatplotlib\u001b[0m\u001b[0;34m\u001b[0m\u001b[0;34m\u001b[0m\u001b[0m\n\u001b[1;32m     23\u001b[0m \u001b[0;32mimport\u001b[0m \u001b[0mmatplotlib\u001b[0m\u001b[0;34m.\u001b[0m\u001b[0mpyplot\u001b[0m \u001b[0;32mas\u001b[0m \u001b[0mplt\u001b[0m\u001b[0;34m\u001b[0m\u001b[0;34m\u001b[0m\u001b[0m\n\u001b[0;32m---> 24\u001b[0;31m \u001b[0;32mimport\u001b[0m \u001b[0mbottchercomplexity\u001b[0m \u001b[0;32mas\u001b[0m \u001b[0mbcf\u001b[0m\u001b[0;34m\u001b[0m\u001b[0;34m\u001b[0m\u001b[0m\n\u001b[0m\u001b[1;32m     25\u001b[0m \u001b[0mplt\u001b[0m\u001b[0;34m.\u001b[0m\u001b[0mrcParams\u001b[0m\u001b[0;34m[\u001b[0m\u001b[0;34m'figure.facecolor'\u001b[0m\u001b[0;34m]\u001b[0m \u001b[0;34m=\u001b[0m \u001b[0;34m'white'\u001b[0m\u001b[0;34m\u001b[0m\u001b[0;34m\u001b[0m\u001b[0m\n\u001b[1;32m     26\u001b[0m \u001b[0mplt\u001b[0m\u001b[0;34m.\u001b[0m\u001b[0mrcParams\u001b[0m\u001b[0;34m[\u001b[0m\u001b[0;34m'figure.figsize'\u001b[0m\u001b[0;34m]\u001b[0m \u001b[0;34m=\u001b[0m \u001b[0;36m12\u001b[0m\u001b[0;34m,\u001b[0m \u001b[0;36m8\u001b[0m\u001b[0;34m\u001b[0m\u001b[0;34m\u001b[0m\u001b[0m\n",
      "\u001b[0;31mModuleNotFoundError\u001b[0m: No module named 'bottchercomplexity'"
     ]
    }
   ],
   "source": [
    "from __future__ import print_function\n",
    "import csv\n",
    "import importlib.util\n",
    "from rdkit import Chem\n",
    "from rdkit import DataStructs\n",
    "from rdkit.Chem.Fingerprints import FingerprintMols\n",
    "from rdkit.Chem import Draw\n",
    "from rdkit.Chem import Crippen\n",
    "from rdkit.Chem import Lipinski\n",
    "from rdkit.Chem.Draw import DrawingOptions\n",
    "from rdkit.Chem import AllChem\n",
    "from rdkit.Chem.Draw import IPythonConsole\n",
    "from rdkit.Chem import GraphDescriptors\n",
    "from rdkit.Chem.Descriptors import ExactMolWt\n",
    "from enum import Enum\n",
    "import numpy as np\n",
    "import scipy.stats as stats\n",
    "import statistics\n",
    "import math\n",
    "import string\n",
    "import pandas as pd\n",
    "import matplotlib\n",
    "import matplotlib.pyplot as plt\n",
    "import bottchercomplexity as bcf\n",
    "plt.rcParams['figure.facecolor'] = 'white'\n",
    "plt.rcParams['figure.figsize'] = 12, 8\n",
    "plt.rcParams['lines.markersize'] = 3\n",
    "plt.rcParams['lines.linewidth'] = 0.8\n",
    "plt.rcParams['font.size'] = 12\n",
    "plt.rc('text', usetex=True)"
   ]
  },
  {
   "cell_type": "code",
   "execution_count": null,
   "metadata": {
    "collapsed": false
   },
   "outputs": [],
   "source": [
    "#####################\n",
    "#                   #\n",
    "# Loading Resources #\n",
    "#                   #\n",
    "#####################"
   ]
  },
  {
   "cell_type": "code",
   "execution_count": 559,
   "metadata": {
    "collapsed": false
   },
   "outputs": [],
   "source": [
    "cols = ['Barcode','Researcher','Notebook','Page','Smiles','Comments','MW(amu)','MPLOWER','MPUPPER','CardMissing','Notes','LabelNotes']\n",
    "poster_data = pd.read_csv(\"MIKI/BurckhalterDatabase.csv\", engine='python', names=cols)\n",
    "new_data = pd.read_csv(\"BurckhalterDatabase.csv\", engine='python', names=cols)\n",
    "cmld_data = pd.read_csv(\"MIKI/cmld.csv\")"
   ]
  },
  {
   "cell_type": "code",
   "execution_count": null,
   "metadata": {
    "collapsed": false
   },
   "outputs": [],
   "source": [
    "#####################\n",
    "#                   #\n",
    "#  Data Interfaces  #\n",
    "#                   #\n",
    "#####################"
   ]
  },
  {
   "cell_type": "code",
   "execution_count": 666,
   "metadata": {
    "collapsed": false
   },
   "outputs": [],
   "source": [
    "class LibraryError(Exception):\n",
    "    def __init__(self, value):\n",
    "        self.value = value\n",
    "    def __str__(self):\n",
    "        return repr(self.value)\n",
    "\n",
    "class Library:\n",
    "    def __init__(self, data):\n",
    "        self.raw_data = data\n",
    "        self.smiles = self.smilesToList()\n",
    "        self.molecules = []\n",
    "        for entry in self.smiles:\n",
    "            if entry is not None:\n",
    "                temp = Chem.MolFromSmiles(entry)\n",
    "                if temp is not None:\n",
    "                    self.molecules.append(temp)\n",
    "        self.molecular_weights = self.getMolecularWeights()\n",
    "        self.avgSim, self.fpstdev, self.similarities = self.compareAllFingerprints()\n",
    "        self.avgComp, self.compstdev, self.complexities = self.getAllComplexities()\n",
    "        self.avgclogp, self.clogpstdev, self.clogps = self.getAllClogps()\n",
    "        self.avghdonors, self.avghdonors, self.hdonors = self.getHDonors()\n",
    "        self.avghacceptors, self.avghacceptors, self.hacceptors = self.getHAcceptors()\n",
    "\n",
    "    def __filterSmiles():\n",
    "        return None\n",
    "\n",
    "    def smilesToList(self):\n",
    "        smiles_processed = []\n",
    "        temp = self.raw_data.dropna(subset=['Smiles']).reset_index(drop=True)['Smiles'].to_list()\n",
    "        # Filter Errors\n",
    "        for i in temp:\n",
    "            if ' ' in i.strip(' ') or len(i) == 0: pass\n",
    "            else: smiles_processed.append(i)\n",
    "        return smiles_processed\n",
    "\n",
    "    def compareAllFingerprints(self):\n",
    "        fprints = [FingerprintMols.FingerprintMol(x) for x in self.molecules]\n",
    "        fpcompare = []\n",
    "        for i in range(1, len(fprints)):\n",
    "            fpcompare.append(DataStructs.FingerprintSimilarity(fprints[0],fprints[i]))\n",
    "        tempavgSim = 0\n",
    "        for i in fpcompare:\n",
    "            tempavgSim += i\n",
    "        corrected = []\n",
    "        for i in fpcompare:\n",
    "            corrected.append(i*100)\n",
    "        return (tempavgSim/(len(fprints)-1)), statistics.stdev(corrected), corrected\n",
    "\n",
    "    def getAllClogps(self):\n",
    "        clogps = []\n",
    "        for i in self.molecules:\n",
    "            clogps.append(Crippen.MolLogP(i))\n",
    "        avg = 0\n",
    "        for i in clogps:\n",
    "            avg += i / (len(clogps))\n",
    "        stddev = statistics.stdev(clogps)\n",
    "        return avg, stddev, clogps;\n",
    "\n",
    "    def getMolecularWeights(self):\n",
    "        temp = []\n",
    "        for i in self.molecules:\n",
    "            temp.append(ExactMolWt(i))\n",
    "        return temp\n",
    "\n",
    "    def getAllComplexities(self):\n",
    "        complexities = []\n",
    "        for i in self.molecules:\n",
    "            complexities.append(Chem.GraphDescriptors.BertzCT(i))\n",
    "        avg = 0\n",
    "        for i in complexities:\n",
    "            avg += i/(len(complexities))\n",
    "        stddev = statistics.stdev(complexities)\n",
    "        return avg, stddev, complexities\n",
    "\n",
    "    def getComplexityStats(self):\n",
    "        return self.avgComp, self.compstdev, self.complexities\n",
    "\n",
    "    def getClogPStats(self):\n",
    "        return self.avgclogp, self.clogpstdev, self.clogps\n",
    "    \n",
    "    def getFingerprintSimilarityAverage(self):\n",
    "        x_axis = np.arange(-10, 100, 1)\n",
    "        plt.plot(x_axis, stats.norm.pdf(x_axis, self.avgSim*100, self.fpstdev))\n",
    "\n",
    "    def getFingerprintSimilarityHistogram(self, bins=50):\n",
    "        plt.hist(self.similarities, bins=bins, histtype='barstacked', density=True)\n",
    "\n",
    "    def getHDonors(self):\n",
    "        hdonors = []\n",
    "        for i in self.molecules:\n",
    "            hdonors.append(Lipinski.NumHDonors(i))\n",
    "        avg = 0\n",
    "        for i in hdonors:\n",
    "            avg += i/(len(hdonors))\n",
    "        stddev = statistics.stdev(hdonors)\n",
    "        return avg, stddev, hdonors\n",
    "\n",
    "    def getHAcceptors(self):\n",
    "        hacceptors = []\n",
    "        for i in self.molecules:\n",
    "            hacceptors.append(Lipinski.NumHAcceptors(i))\n",
    "        avg = 0\n",
    "        for i in hacceptors:\n",
    "            avg += i/(len(hacceptors))\n",
    "        stddev = statistics.stdev(hacceptors)\n",
    "        return avg, stddev, hacceptors\n",
    "\n",
    "    def getWeight(self):\n",
    "        avg = 0\n",
    "        for i in self.molecular_weights:\n",
    "            avg += i/(len(self.molecular_weights))\n",
    "        stddev = statistics.stdev(self.molecular_weights)\n",
    "        return avg, stddev, self.molecular_weights\n",
    "\n",
    "\n",
    "    def __repr__(self):\n",
    "        return \"Library\"\n",
    "\n",
    "    # Pandas Dataframes\n",
    "    raw_data = None\n",
    "\n",
    "    # Lists\n",
    "    smiles = None\n",
    "    molecules = None\n",
    "    molecular_weights = None\n",
    "    similarities = None\n",
    "    complexities = None\n",
    "    clogps = None\n",
    "    hdonors = None\n",
    "    haccptors = None\n",
    "\n",
    "    # Numbers\n",
    "    avghdonors = None\n",
    "    hdonorstdev = None\n",
    "\n",
    "    avghacceptors = None\n",
    "    hacceptorstdev = None\n",
    "\n",
    "    avgSim = None\n",
    "    fpstdev = None\n",
    "\n",
    "    avgComp = None\n",
    "    compstdev = None\n",
    "\n",
    "    avgWeight = None\n",
    "    weightstdev = None\n",
    "\n",
    "    avgclogp = None\n",
    "    clogpstdev = None\n"
   ]
  },
  {
   "cell_type": "code",
   "execution_count": 653,
   "metadata": {
    "collapsed": false
   },
   "outputs": [],
   "source": [
    "class BurckData:\n",
    "    def __init__(self, poster_data, new_data, cmld_data):\n",
    "\n",
    "        if(isinstance(poster_data, Library)):\n",
    "            self.poster_lib = poster_data\n",
    "        else:\n",
    "            self.poster_lib = Library(poster_data)\n",
    "        if(isinstance(new_data, Library)):\n",
    "            self.new_lib = new_data\n",
    "        else:\n",
    "            self.new_lib = Library(new_data)\n",
    "        if(isinstance(cmld_data, Library)):\n",
    "            self.cmld_lib = cmld_data\n",
    "        else:\n",
    "            self.cmld_lib = Library(cmld_data)\n",
    "\n",
    "    def fmtTitle(self, titlestr, liblbl, nummols):\n",
    "            title = titlestr + \" in \"\n",
    "            if liblbl == 'MIKI':\n",
    "                title = title + \" the \"\n",
    "            else:\n",
    "                title = title + \" a \"\n",
    "            title = title + str(nummols) + \"-Member \" + liblbl + \" Subset\"\n",
    "            return title\n",
    "\n",
    "    def getLib(self, lib):\n",
    "        if lib == 'poster':\n",
    "            return self.poster_lib, \"MIKI\"\n",
    "        elif lib == 'burck':\n",
    "            return self.new_lib, \"BHC\"\n",
    "        elif lib == 'cmld':\n",
    "            return self.cmld_lib, \"CMLDC\"\n",
    "        else:\n",
    "            raise LibraryError(\"Could not find library.\")\n",
    "\n",
    "    def getSmiles(self, lib):\n",
    "        try:\n",
    "            temp = self.getLib(lib).smiles\n",
    "            return temp\n",
    "        except LibraryError:\n",
    "            print(\"Got it!\")\n",
    "\n",
    "    def getMolecules(self, lib):\n",
    "        try:\n",
    "            temp = self.getLib(lib).molecules\n",
    "            return temp\n",
    "        except LibraryError:\n",
    "            print(\"Got it!\")\n",
    "\n",
    "    def getNumSmiles(self, lib):\n",
    "        try:\n",
    "            temp = self.getLib(lib).smiles\n",
    "            return len(temp)\n",
    "        except LibraryError:\n",
    "            print(\"Aborting...\")\n",
    "\n",
    "    def getNumMolecules(self, lib):\n",
    "        try:\n",
    "            temp = self.getLib(lib).molecules\n",
    "            return len(temp)\n",
    "        except LibraryError:\n",
    "            print(\"Aborting...\")\n",
    "\n",
    "    def validatedMolToCsv(self, lib):\n",
    "        \"\"\"Return a CSV representation of every molecule in the library if and only if RDKIT\n",
    "        was able to process it.\"\"\"\n",
    "        pass\n",
    "\n",
    "    def getFunction(self, lib, param):\n",
    "        if(param == 'weight'):\n",
    "            return lib.getWeight()\n",
    "        elif(param == 'hacceptors'):\n",
    "            return lib.getHAcceptors()\n",
    "        elif(param == 'hdonors'):\n",
    "            return lib.getHDonors()\n",
    "        elif(param == 'clogps'):\n",
    "            return None\n",
    "\n",
    "    def __getHistogram(self, lib, param, ax, **kwargs):\n",
    "        temp, liblbl = self.getLib(lib)\n",
    "        avg, stdev, param = self.getFunction(temp, param)\n",
    "        ax.hist(param, histtype='barstacked',\n",
    "                bins= kwargs['bins'] if 'bins' in kwargs else max(param) if max(param) < 50 else 50,\n",
    "                density = kwargs['density'] if 'density' in kwargs else True,\n",
    "                alpha = float(kwargs['alpha']) if 'alpha' in kwargs else 1,\n",
    "                label=liblbl,\n",
    "                align='mid')\n",
    "        if(kwargs['inc_title'] if 'inc_title' in kwargs else False):\n",
    "            ax.set_title(self.fmtTitle(kwargs['title'] if 'title' in kwargs else \"MISSING TITLE\", liblbl, len(param)))\n",
    "        if param == 'hacceptors' or param == 'hdonors':\n",
    "            xrange = np.arange(0, math.ceil(max(param))+1, 1)\n",
    "            ax.set_xticks(xrange)\n",
    "        ax.set_xlabel(kwargs['xlabel'] if 'xlabel' in kwargs else \"MISSING XLABEL\")\n",
    "        ax.set_ylabel(kwargs['ylabel'] if 'ylabel' in kwargs else \"MISSING YLABEL\")\n",
    "\n",
    "    def getHistogram(self, lib, param, ax, **kwargs):\n",
    "        try:\n",
    "            if(isinstance(lib, list)):\n",
    "                for entry in lib:\n",
    "                    self.__getHistogram(entry, param, ax, **kwargs)\n",
    "            else:\n",
    "                self.__getHistogram(lib, param, ax, **kwargs)\n",
    "        except LibraryError:\n",
    "            pass\n",
    "\n",
    "    def __getBoxplot(self, lib, param, ax, **kwargs):\n",
    "        temp, liblbl = self.getLib(lib)\n",
    "        avg, stdev, values = self.getFunction(temp, param)\n",
    "        ax.boxplot(values,\n",
    "                   vert=kwargs['vert'] if 'vert' in kwargs else False,\n",
    "                   showfliers=kwargs['showfliers'] if 'showfliers' in kwargs else False)\n",
    "\n",
    "        if(kwargs['mask_outliers'] if 'mask_outliers' in kwargs else True):\n",
    "            upper_quartile = np.percentile(values, 75) + (kwargs['mask_offset'] if 'mask_offset' in kwargs else 1)\n",
    "            outlier_mask = [value for value in values if value > upper_quartile]\n",
    "            x = np.random.normal(1, 0.04, size=len(outlier_mask))\n",
    "            ax.scatter(outlier_mask, x, alpha=0.2)\n",
    "        if(kwargs['title'] if 'title' in kwargs else False):\n",
    "            ax.set_title(self.fmtTitle(kwargs['title'] if 'title' in kwargs else \"MISSING TITLE\", liblbl, len(param)))\n",
    "        if param == 'hacceptors' or param == 'hdonors':\n",
    "            xrange = np.arange(0, math.ceil(max(values))+1, 1)\n",
    "            ax.set_xticks(xrange)\n",
    "        ax.set_xlabel(kwargs['xlabel'] if 'xlabel' in kwargs else None)\n",
    "        ax.set_yticklabels([kwargs['ylabel']] if 'ylabel' in kwargs else [liblbl], rotation=45)\n",
    "\n",
    "    def getBoxplot(self, lib, param, ax, **kwargs):\n",
    "        try:\n",
    "            if(isinstance(lib, list)):\n",
    "                for entry in lib:\n",
    "                    self.__getBoxplot(entry, param, ax, **kwargs)\n",
    "            else:\n",
    "                self.__getBoxplot(lib, param, ax, **kwargs)\n",
    "        except LibraryError:\n",
    "            pass\n",
    "\n",
    "\n",
    "    def getWeightBoxplot(self, lib, path=None, **kwargs):\n",
    "            try:\n",
    "                temp, liblbl = self.getLib(lib)\n",
    "                weights = temp.molecular_weights\n",
    "                fig = plt.figure()\n",
    "                plt.boxplot(weights, vert=kwargs['vert'] if 'vert' in kwargs else False)\n",
    "                plt.title(self.fmtTitle(\"Distribution of Molecular Weights\", liblbl, len(weights)))\n",
    "                plt.xlabel(\"Molecular Weight (amu)\")\n",
    "                plt.ylabel(\"Number of Molecules in Bin\")\n",
    "            except LibraryError:\n",
    "                pass\n",
    "\n",
    "    def getSimilarityDistribution(self, lib, path=None):\n",
    "        try:\n",
    "            temp, liblbl = self.getLib(lib)\n",
    "            temp.getFingerprintSimilarityAverage()\n",
    "            title = \"Similarity Between Molecule 1 and Others in \"\n",
    "            plt.title(self.fmtTitle(\"Similarity Between Molecule 1 and Others\", liblbl, len(temp.molecules)))\n",
    "            plt.xlabel(\"Similarity Score\")\n",
    "            plt.ylabel(\"Fraction of Molecules with Score\")\n",
    "            if path is not None:\n",
    "                plt.savefig(path)\n",
    "        except LibraryError:\n",
    "            pass\n",
    "\n",
    "    def getComplexityDistribution(self, lib, path=None):\n",
    "        try:\n",
    "            temp, liblbl = self.getLib(lib)\n",
    "            avg, stdev, complexities = temp.getComplexityStats()\n",
    "            x_axis = np.arange(-1000, 3000, 1)\n",
    "            fig = plt.figure()\n",
    "            plt.plot(x_axis, stats.norm.pdf(x_axis, avg, stdev))\n",
    "            plt.title(self.fmtTitle(\"Complexity Distribution of Molecules\", liblbl, len(complexities)))\n",
    "            plt.xlabel(\"Complexity\")\n",
    "            plt.ylabel(\"Fraction of Molecules with Score\")\n",
    "            if path is not None:\n",
    "                plt.savefig(path)\n",
    "        except LibraryError:\n",
    "            pass\n",
    "\n",
    "    def getClogPDistribution(self, lib, **kwargs):\n",
    "        try:\n",
    "            temp, liblbl = self.getLib(lib)\n",
    "            avg, stdev, clogps = temp.getClogPStats()\n",
    "            x_axis = np.arange(-10, 20, 1)\n",
    "            fig = plt.figure()\n",
    "            plt.plot(x_axis, stats.norm.pdf(x_axis, avg, stdev))\n",
    "            plt.title(self.fmtTitle(\"CLogP values of Molecules\", liblbl, len(clogps)))\n",
    "            plt.xlabel(\"clogp\")\n",
    "            plt.ylabel(\"Fraction of Molecules with Score\")\n",
    "            if path in kwargs:\n",
    "                plt.savefig(path)\n",
    "        except LibraryError:\n",
    "            pass\n",
    "\n",
    "    def getClogPHistogram(self, lib, path=None):\n",
    "        try:\n",
    "            temp, liblbl = self.getLib(lib)\n",
    "            avg, stdev, clogps = temp.getClogPStats()\n",
    "            x_axis = np.arange(-10, 100, 1)\n",
    "            fig = plt.figure()\n",
    "            plt.hist(clogps, bins=50, histtype='barstacked')\n",
    "            plt.title(self.fmtTitle(\"Histogram of CLogP values\", liblbl, len(clogps)))\n",
    "            plt.xlabel(\"clogp\")\n",
    "            plt.ylabel(\"Fraction of Molecules with Score\")\n",
    "            if path is not None:\n",
    "                plt.savefig(path)\n",
    "        except LibraryError:\n",
    "            pass\n",
    "\n",
    "    def getHDonorBoxplot(self, lib, ax, **kwargs):\n",
    "        try:\n",
    "            temp, liblbl = self.getLib(lib)\n",
    "            avg, stdev, hdonors = temp.getHDonors()\n",
    "            upper_quartile = np.percentile(hdonors, 75) + 1\n",
    "            ax.boxplot(hdonors,\n",
    "                       vert=kwargs['vert'] if 'vert' in kwargs else False,\n",
    "                       showfliers=False)\n",
    "            hdonors_mask = [hdonor for hdonor in hdonors if hdonor > upper_quartile]\n",
    "            x = np.random.normal(1, 0.04, size=len(hdonors_mask))\n",
    "            ax.scatter(hdonors_mask, x, alpha=0.2)\n",
    "            if(kwargs['title'] if 'title' in kwargs else False):\n",
    "                ax.set_title(self.fmtTitle(\"Box-and-Whisker Plot of H-Donors Possessed by Molecules\", liblbl, len(hdonors)))\n",
    "            xrange = np.arange(0, math.ceil(max(hdonors))+1, 1)\n",
    "            ax.set_xticks(xrange)\n",
    "            # ax.set_xlabel(\"Number of H-Donors\")\n",
    "            ax.set_yticklabels([liblbl], rotation = 45)\n",
    "        except LibraryError:\n",
    "            pass\n",
    "\n",
    "    def getHDonorHistogram(self, lib, ax, **kwargs):\n",
    "        try:\n",
    "            temp, liblbl = self.getLib(lib)\n",
    "            avg, stdev, hdonors = temp.getHDonors()\n",
    "            ax.hist(hdonors, bins=max(hdonors), histtype='barstacked',\n",
    "                    density = kwargs['density'] if 'density' in kwargs else True,\n",
    "                    alpha = float(kwargs['alpha']) if 'alpha' in kwargs else 1,\n",
    "                    label=liblbl,\n",
    "                    align='mid')\n",
    "            if(kwargs['title'] if 'title' in kwargs else False):\n",
    "                ax.set_title(self.fmtTitle(\"Histogram of H-Donors Possessed by Molecules\", liblbl, len(hdonors)))\n",
    "            xrange = np.arange(0, math.ceil(max(hdonors))+1, 1)\n",
    "            ax.set_xticks(xrange)\n",
    "            ax.set_xlabel(\"Number of H-Donors\")\n",
    "            ax.set_ylabel(\"Fraction of Molecules with Score\")\n",
    "        except LibraryError:\n",
    "            pass\n",
    "\n",
    "    def getHAcceptorBoxplot(self, lib, ax, **kwargs):\n",
    "        try:\n",
    "            temp, liblbl = self.getLib(lib)\n",
    "            avg, stdev, hacceptors = temp.getHAcceptors()\n",
    "            upper_quartile = np.percentile(hacceptors, 75) + 3\n",
    "            ax.boxplot(hacceptors,\n",
    "                       vert=kwargs['vert'] if 'vert' in kwargs else False,\n",
    "                       showfliers=False)\n",
    "            hacceptor_mask = [hacceptor for hacceptor in hacceptors if hacceptor > upper_quartile]\n",
    "            x = np.random.normal(1, 0.04, size=len(hacceptor_mask))\n",
    "            ax.scatter(hacceptor_mask, x, alpha=0.2)\n",
    "            if(kwargs['title'] if 'title' in kwargs else False):\n",
    "                ax.set_title(self.fmtTitle(\"Box-and-Whisker Plot of H-Acceptors Possessed by Molecules\", liblbl, len(hacceptors)))\n",
    "            xrange = np.arange(0, math.ceil(max(hacceptors))+1, 1)\n",
    "            ax.set_xticks(xrange)\n",
    "            # ax.set_xlabel(\"Number of H-Acceptors\")\n",
    "            ax.set_yticklabels([liblbl], rotation = 45)\n",
    "        except LibraryError:\n",
    "            pass\n",
    "\n",
    "    def getHAcceptorHistogram(self, lib, ax, **kwargs):\n",
    "        try:\n",
    "            temp, liblbl = self.getLib(lib)\n",
    "            avg, stdev, hacceptors = temp.getHAcceptors()\n",
    "            ax.hist(hacceptors, bins=max(hacceptors), histtype='barstacked',\n",
    "                    density = kwargs['density'] if 'density' in kwargs else True,\n",
    "                    alpha = float(kwargs['alpha']) if 'alpha' in kwargs else 1,\n",
    "                    label=liblbl)\n",
    "            if(kwargs['title'] if 'title' in kwargs else False):\n",
    "                ax.set_title(self.fmtTitle(\"Histogram of H-Acceptors Possessed by Molecules\", liblbl, len(hacceptors)))\n",
    "            ax.set_xlabel(\"Number of H-Acceptors\")\n",
    "            xrange = np.arange(0, math.ceil(max(hacceptors))+1, 1)\n",
    "            ax.set_xticks(xrange)\n",
    "            ax.set_ylabel(\"Fraction of Molecules with Score\")\n",
    "        except LibraryError:\n",
    "            pass\n",
    "\n",
    "    # Libraries\n",
    "    poster_lib = None\n",
    "    new_lib = None\n",
    "    cmld_lib = None\n"
   ]
  },
  {
   "cell_type": "code",
   "execution_count": 562,
   "metadata": {
    "collapsed": false
   },
   "outputs": [],
   "source": [
    "class PIDGINData:\n",
    "    def __init__(self, data, cmdline_output):\n",
    "        self.raw_data_file = data\n",
    "        self.cmdline_out = cmdline_output\n",
    "        self.rejected_smiles = []\n",
    "        self.rejected_smiles_indices = []\n",
    "        results = []\n",
    "        with open(data, 'r') as f:\n",
    "            for line in f:\n",
    "                results.append(line)\n",
    "        for index, line in enumerate(results):\n",
    "            results[index] = line.replace('\\n', '').split('\\t')\n",
    "        temp = pd.DataFrame(results)\n",
    "        self.processed_data = temp.rename(columns=temp.iloc[0]).drop(temp.index[0]).reset_index(drop=True)\n",
    "        self.total_processed = 0\n",
    "        with open(cmdline_output, 'r') as f:\n",
    "            for line in f:\n",
    "                tokenized_line = line.split(' ')\n",
    "                if (len(tokenized_line) > 1) and (tokenized_line[1] == 'SMILES'):\n",
    "                    self.rejected_smiles_indices.append(tokenized_line[-5])\n",
    "                    self.rejected_smiles.append(tokenized_line[-1])\n",
    "                if (len(tokenized_line) > 1) and (tokenized_line[1] == 'Processing'):\n",
    "                    self.total_processed = tokenized_line[-1].strip('\\n')\n",
    "        self.processed_data = self.processed_data.replace('nan', np.NaN)\n",
    "\n",
    "    def getActivityByName(self, mol_name, threshold = 0.0):\n",
    "        try:\n",
    "            rows = self.processed_data[mol_name].dropna().index.tolist()\n",
    "            this_drug = self.processed_data.iloc[rows]\n",
    "            metadata = this_drug.loc[:,'Uniprot':'Model_ID'].copy(deep=True)\n",
    "            metadata[mol_name] = this_drug[mol_name]\n",
    "            return metadata\n",
    "        except KeyError:\n",
    "            print(\"Molecule \" + mol_name + \" not found. It was probably rejected by PIDGIN.\")\n",
    "            return None\n",
    "\n",
    "    raw_data_file = None\n",
    "    processed_data = 0\n",
    "    cmdline_out = None\n",
    "    rejected_smiles = None\n",
    "    rejected_smiles_indices = None\n",
    "    total_processed = None\n"
   ]
  },
  {
   "cell_type": "code",
   "execution_count": null,
   "metadata": {
    "collapsed": false
   },
   "outputs": [],
   "source": [
    "#burck = PIDGINData()\n",
    "drugs = PIDGINData(\"drugs_pred.txt\", \"drugs_cmdline_output.txt\")\n",
    "#cmld = PIDGINData()"
   ]
  },
  {
   "cell_type": "code",
   "execution_count": 667,
   "metadata": {
    "collapsed": false
   },
   "outputs": [],
   "source": [
    "poster = Library(poster_data)\n",
    "burck = Library(new_data)\n",
    "cmld = Library(cmld_data)"
   ]
  },
  {
   "cell_type": "code",
   "execution_count": 664,
   "metadata": {
    "collapsed": false
   },
   "outputs": [],
   "source": [
    "libraries = BurckData(poster, burck, cmld)"
   ]
  },
  {
   "cell_type": "code",
   "execution_count": null,
   "metadata": {
    "collapsed": false
   },
   "outputs": [],
   "source": [
    "##########################################\n",
    "#                                        #\n",
    "# Compound Collection Figures Start Here #\n",
    "#                                        #\n",
    "##########################################"
   ]
  },
  {
   "cell_type": "code",
   "execution_count": null,
   "metadata": {
    "collapsed": false
   },
   "outputs": [],
   "source": [
    "fig, axs = plt.subplots(4,1,figsize=(10,12), sharex=True)\n",
    "axs[0].xaxis.set_tick_params(which='both', labelbottom='True')\n",
    "axs[1].xaxis.set_tick_params(which='both', labelbottom='True')\n",
    "gs = axs[1].get_gridspec()\n",
    "for ax in axs[2:]:\n",
    "    ax.remove()\n",
    "axbig = fig.add_subplot(gs[2:])\n",
    "plt.suptitle(\"H-Bond Donors in Burckhalter and CMLD\", x=0.5, y=0.9)\n",
    "libraries.getHDonorBoxplot('burck', axs[0])\n",
    "libraries.getHDonorBoxplot('cmld', axs[1])\n",
    "libraries.getHDonorHistogram('burck', axbig, alpha=0.5)\n",
    "libraries.getHDonorHistogram('cmld', axbig, alpha=0.5)\n",
    "axbig.legend()\n",
    "plt.savefig(\"combined.png\", dpi=150)\n"
   ]
  },
  {
   "cell_type": "code",
   "execution_count": 656,
   "metadata": {
    "collapsed": false
   },
   "outputs": [
    {
     "data": {
      "image/png": "[encoded data removed]",
      "text/plain": [
       "<Figure size 720x864 with 3 Axes>"
      ]
     },
     "metadata": {},
     "output_type": "display_data"
    }
   ],
   "source": [
    "fig, axs = plt.subplots(4, 1, figsize=(10, 12), sharex=True)\n",
    "axs[0].xaxis.set_tick_params(which='both', labelbottom='True')\n",
    "axs[1].xaxis.set_tick_params(which='both', labelbottom='True')\n",
    "gs = axs[1].get_gridspec()\n",
    "for ax in axs[2:]:\n",
    "    ax.remove()\n",
    "axbig = fig.add_subplot(gs[2:])\n",
    "plt.suptitle(\"Number of Hydrogen Bond Acceptors in Two Collections\", x=0.5, y=0.9)\n",
    "libraries.getBoxplot('burck', 'hacceptors', axs[0], mask_offset=3)\n",
    "libraries.getBoxplot('cmld', 'hacceptors', axs[1], mask_offset=3)\n",
    "libraries.getHistogram(['burck','cmld'], 'hacceptors', axbig,\n",
    "                       alpha=0.5,\n",
    "                       xlabel=\"Number of H-Acceptors\",\n",
    "                       ylabel=\"Fraction of Molecules with H-Acceptors\")\n",
    "axbig.legend()\n",
    "plt.savefig(\"combined_acceptors.png\", dpi=150)"
   ]
  },
  {
   "cell_type": "code",
   "execution_count": 672,
   "metadata": {
    "collapsed": false
   },
   "outputs": [
    {
     "data": {
      "image/png": "[encoded data removed]",
      "text/plain": [
       "<Figure size 720x864 with 3 Axes>"
      ]
     },
     "metadata": {},
     "output_type": "display_data"
    }
   ],
   "source": [
    "# Refresh the interface before preparing the figure\n",
    "# Cheap as it does not regenerate libraries.\n",
    "libraries = BurckData(poster, burck, cmld)\n",
    "# Generate the figure\n",
    "fig, axs = plt.subplots(4, 1, figsize=(10, 12), sharex=True)\n",
    "axs[0].xaxis.set_tick_params(which='both', labelbottom='True')\n",
    "axs[1].xaxis.set_tick_params(which='both', labelbottom='True')\n",
    "gs = axs[1].get_gridspec()\n",
    "for ax in axs[2:]:\n",
    "    ax.remove()\n",
    "axbig = fig.add_subplot(gs[2:])\n",
    "plt.suptitle(\"Molecular Weight in Two Collections\", x=0.5, y=0.9)\n",
    "libraries.getBoxplot('burck', 'weight', axs[0], mask_offset=200)\n",
    "libraries.getBoxplot('cmld', 'weight', axs[1], mask_offset=190)\n",
    "libraries.getHistogram(['burck', 'cmld'], 'weight', axbig,\n",
    "                       alpha=0.5,\n",
    "                       xlabel=\"Molecular Weight\",\n",
    "                       ylabel=\"Fraction of Molecules with Molecular Weight\")\n",
    "axbig.legend()\n",
    "plt.savefig(\"weights.png\")"
   ]
  },
  {
   "cell_type": "code",
   "execution_count": 673,
   "metadata": {
    "collapsed": false
   },
   "outputs": [],
   "source": [
    "###########################################\n",
    "#                                         #\n",
    "#    PIDGIN-Related Figures Start Here    #\n",
    "#                                         #\n",
    "###########################################"
   ]
  },
  {
   "cell_type": "code",
   "execution_count": null,
   "metadata": {
    "collapsed": false
   },
   "outputs": [],
   "source": [
    "test = pd.DataFrame(lines)\n",
    "test.rename(columns=test.iloc[0]).drop(test.index[0])"
   ]
  },
  {
   "cell_type": "code",
   "execution_count": 3,
   "metadata": {
    "collapsed": false
   },
   "outputs": [],
   "source": [
    "lines2 = []\n",
    "with open('gefitinib.txt', 'r') as f:\n",
    "    for line in f:\n",
    "        lines2.append(line)\n",
    "for index, line in enumerate(lines2):\n",
    "    lines2[index] = line.replace('\\n', '').split('\\t')\n",
    "test2 = pd.DataFrame(lines2)\n",
    "test2 = test2.rename(columns=test2.iloc[0]).drop(test2.index[0]).reset_index(drop=True)"
   ]
  },
  {
   "cell_type": "code",
   "execution_count": 4,
   "metadata": {
    "collapsed": false
   },
   "outputs": [],
   "source": [
    "test2 = test2.replace('nan', np.NaN)"
   ]
  },
  {
   "cell_type": "code",
   "execution_count": null,
   "metadata": {
    "collapsed": false
   },
   "outputs": [],
   "source": []
  },
  {
   "cell_type": "code",
   "execution_count": 8,
   "metadata": {
    "collapsed": false
   },
   "outputs": [],
   "source": [
    "test2 = test2.dropna()"
   ]
  },
  {
   "cell_type": "code",
   "execution_count": null,
   "metadata": {
    "collapsed": false
   },
   "outputs": [],
   "source": [
    "test2['']"
   ]
  },
  {
   "cell_type": "code",
   "execution_count": 13,
   "metadata": {
    "collapsed": false
   },
   "outputs": [
    {
     "data": {
      "text/plain": [
       "0                    0.001\n",
       "3387                 0.001\n",
       "3315                 0.001\n",
       "3298                 0.001\n",
       "3296                 0.001\n",
       "               ...        \n",
       "4097    0.8777777777777778\n",
       "148                    0.9\n",
       "993                    0.9\n",
       "3132    0.9222222222222223\n",
       "5747    0.9333333333333333\n",
       "Name: Compound_0_methyl, Length: 518, dtype: object"
      ]
     },
     "execution_count": 13,
     "metadata": {},
     "output_type": "execute_result"
    }
   ],
   "source": [
    "test2['Compound_0_methyl'].sort_values()"
   ]
  },
  {
   "cell_type": "code",
   "execution_count": 15,
   "metadata": {
    "collapsed": false
   },
   "outputs": [
    {
     "data": {
      "text/plain": [
       "5954                 0.001\n",
       "2111                 0.001\n",
       "2137                 0.001\n",
       "2149                 0.001\n",
       "4169                 0.001\n",
       "               ...        \n",
       "3300    0.9111111111111111\n",
       "148     0.9235294117647059\n",
       "5747                 0.925\n",
       "4736                 0.925\n",
       "3938                  0.94\n",
       "Name: Compound_0_propyl, Length: 518, dtype: object"
      ]
     },
     "execution_count": 15,
     "metadata": {},
     "output_type": "execute_result"
    }
   ],
   "source": [
    "test2['Compound_0_propyl'].sort_values()"
   ]
  },
  {
   "cell_type": "code",
   "execution_count": 8,
   "metadata": {
    "collapsed": false
   },
   "outputs": [],
   "source": [
    "test2 = test2.replace('nan', np.NaN)"
   ]
  },
  {
   "cell_type": "code",
   "execution_count": 9,
   "metadata": {
    "collapsed": false
   },
   "outputs": [
    {
     "data": {
      "text/plain": [
       "138                  0.001\n",
       "2813                 0.001\n",
       "2814                 0.001\n",
       "2815                 0.001\n",
       "2816                 0.001\n",
       "               ...        \n",
       "2963    0.4461538461538462\n",
       "2962    0.4461538461538462\n",
       "2961    0.4461538461538462\n",
       "2959    0.4461538461538462\n",
       "2952    0.4461538461538462\n",
       "Name: Vemurafenib, Length: 3935, dtype: object"
      ]
     },
     "execution_count": 9,
     "metadata": {},
     "output_type": "execute_result"
    }
   ],
   "source": [
    "test2['Vemurafenib'].dropna().sort_values()"
   ]
  },
  {
   "cell_type": "code",
   "execution_count": null,
   "metadata": {
    "collapsed": false
   },
   "outputs": [],
   "source": [
    "test2.sort_values(by='Activity_Threshold').reset_index(drop=True)"
   ]
  },
  {
   "cell_type": "code",
   "execution_count": 11,
   "metadata": {
    "collapsed": false
   },
   "outputs": [
    {
     "data": {
      "text/html": [
       "<div>\n",
       "<style scoped>\n",
       "    .dataframe tbody tr th:only-of-type {\n",
       "        vertical-align: middle;\n",
       "    }\n",
       "\n",
       "    .dataframe tbody tr th {\n",
       "        vertical-align: top;\n",
       "    }\n",
       "\n",
       "    .dataframe thead th {\n",
       "        text-align: right;\n",
       "    }\n",
       "</style>\n",
       "<table border=\"1\" class=\"dataframe\">\n",
       "  <thead>\n",
       "    <tr style=\"text-align: right;\">\n",
       "      <th></th>\n",
       "      <th>Uniprot</th>\n",
       "      <th>Name</th>\n",
       "      <th>Gene_ID</th>\n",
       "      <th>Protein_Classification</th>\n",
       "      <th>Organism</th>\n",
       "      <th>PDB_IDs</th>\n",
       "      <th>DisGeNET_0.06</th>\n",
       "      <th>ChEMBL_First_Publication</th>\n",
       "      <th>Activity_Threshold</th>\n",
       "      <th>Actives</th>\n",
       "      <th>...</th>\n",
       "      <th>Zanamivir</th>\n",
       "      <th>Zidovudine</th>\n",
       "      <th>Zileuton</th>\n",
       "      <th>Ziprasidone</th>\n",
       "      <th>Zoledronate</th>\n",
       "      <th>Zolmitriptan</th>\n",
       "      <th>Zolpidem</th>\n",
       "      <th>Zonisamide</th>\n",
       "      <th>Zopiclone</th>\n",
       "      <th>Zuclopenthixol</th>\n",
       "    </tr>\n",
       "  </thead>\n",
       "  <tbody>\n",
       "    <tr>\n",
       "      <th>0</th>\n",
       "      <td>P28336</td>\n",
       "      <td>Neuromedin B receptor</td>\n",
       "      <td>4829</td>\n",
       "      <td>GPCR</td>\n",
       "      <td>Homo sapiens</td>\n",
       "      <td>N/A</td>\n",
       "      <td>Mammary Neoplasms</td>\n",
       "      <td>1996</td>\n",
       "      <td>1</td>\n",
       "      <td>62</td>\n",
       "      <td>...</td>\n",
       "      <td>nan</td>\n",
       "      <td>nan</td>\n",
       "      <td>nan</td>\n",
       "      <td>0.085</td>\n",
       "      <td>nan</td>\n",
       "      <td>nan</td>\n",
       "      <td>nan</td>\n",
       "      <td>nan</td>\n",
       "      <td>nan</td>\n",
       "      <td>nan</td>\n",
       "    </tr>\n",
       "    <tr>\n",
       "      <th>1</th>\n",
       "      <td>Q9Y3Q0</td>\n",
       "      <td>NAALADase II</td>\n",
       "      <td>10003</td>\n",
       "      <td>Protease</td>\n",
       "      <td>Homo sapiens</td>\n",
       "      <td>3FEC 3FED 3FEE 3FF3</td>\n",
       "      <td>N/A</td>\n",
       "      <td>2004</td>\n",
       "      <td>0.1</td>\n",
       "      <td>11</td>\n",
       "      <td>...</td>\n",
       "      <td>nan</td>\n",
       "      <td>nan</td>\n",
       "      <td>nan</td>\n",
       "      <td>nan</td>\n",
       "      <td>nan</td>\n",
       "      <td>nan</td>\n",
       "      <td>nan</td>\n",
       "      <td>nan</td>\n",
       "      <td>nan</td>\n",
       "      <td>nan</td>\n",
       "    </tr>\n",
       "    <tr>\n",
       "      <th>2</th>\n",
       "      <td>P23467</td>\n",
       "      <td>Receptor-type tyrosine-protein phosphatase beta</td>\n",
       "      <td>5787</td>\n",
       "      <td>Phosphatase</td>\n",
       "      <td>Homo sapiens</td>\n",
       "      <td>2AHS 2H02 2H03 2H04 2HC1 2HC2 2I3R 2I3U 2I4E 2...</td>\n",
       "      <td>Hemangiosarcoma</td>\n",
       "      <td>1999</td>\n",
       "      <td>10</td>\n",
       "      <td>126</td>\n",
       "      <td>...</td>\n",
       "      <td>nan</td>\n",
       "      <td>nan</td>\n",
       "      <td>nan</td>\n",
       "      <td>nan</td>\n",
       "      <td>nan</td>\n",
       "      <td>nan</td>\n",
       "      <td>nan</td>\n",
       "      <td>nan</td>\n",
       "      <td>nan</td>\n",
       "      <td>nan</td>\n",
       "    </tr>\n",
       "    <tr>\n",
       "      <th>3</th>\n",
       "      <td>P30419</td>\n",
       "      <td>Peptide N-myristoyltransferase 1</td>\n",
       "      <td>4836</td>\n",
       "      <td>Transferases</td>\n",
       "      <td>Homo sapiens</td>\n",
       "      <td>1RXT 3IU1 3IU2 3IWE 3JTK 4C2Y 4C2Z</td>\n",
       "      <td>N/A</td>\n",
       "      <td>1996</td>\n",
       "      <td>10</td>\n",
       "      <td>276</td>\n",
       "      <td>...</td>\n",
       "      <td>nan</td>\n",
       "      <td>nan</td>\n",
       "      <td>nan</td>\n",
       "      <td>nan</td>\n",
       "      <td>nan</td>\n",
       "      <td>nan</td>\n",
       "      <td>nan</td>\n",
       "      <td>nan</td>\n",
       "      <td>nan</td>\n",
       "      <td>nan</td>\n",
       "    </tr>\n",
       "    <tr>\n",
       "      <th>4</th>\n",
       "      <td>P30411</td>\n",
       "      <td>Bradykinin B2 receptor</td>\n",
       "      <td>624</td>\n",
       "      <td>GPCR</td>\n",
       "      <td>Homo sapiens</td>\n",
       "      <td>N/A</td>\n",
       "      <td>Rheumatoid Arthritis | Bipolar Disorder | Epil...</td>\n",
       "      <td>N/A</td>\n",
       "      <td>0.1</td>\n",
       "      <td>189</td>\n",
       "      <td>...</td>\n",
       "      <td>nan</td>\n",
       "      <td>nan</td>\n",
       "      <td>nan</td>\n",
       "      <td>nan</td>\n",
       "      <td>nan</td>\n",
       "      <td>nan</td>\n",
       "      <td>nan</td>\n",
       "      <td>nan</td>\n",
       "      <td>nan</td>\n",
       "      <td>nan</td>\n",
       "    </tr>\n",
       "    <tr>\n",
       "      <th>...</th>\n",
       "      <td>...</td>\n",
       "      <td>...</td>\n",
       "      <td>...</td>\n",
       "      <td>...</td>\n",
       "      <td>...</td>\n",
       "      <td>...</td>\n",
       "      <td>...</td>\n",
       "      <td>...</td>\n",
       "      <td>...</td>\n",
       "      <td>...</td>\n",
       "      <td>...</td>\n",
       "      <td>...</td>\n",
       "      <td>...</td>\n",
       "      <td>...</td>\n",
       "      <td>...</td>\n",
       "      <td>...</td>\n",
       "      <td>...</td>\n",
       "      <td>...</td>\n",
       "      <td>...</td>\n",
       "      <td>...</td>\n",
       "      <td>...</td>\n",
       "    </tr>\n",
       "    <tr>\n",
       "      <th>4068</th>\n",
       "      <td>P62993</td>\n",
       "      <td>Growth factor receptor-bound protein 2</td>\n",
       "      <td>2885</td>\n",
       "      <td>Other</td>\n",
       "      <td>Homo sapiens</td>\n",
       "      <td>1AZE 1BM2 1BMB 1CJ1 1FHS 1FYR 1GCQ 1GFC 1GFD 1...</td>\n",
       "      <td>Schizophrenia</td>\n",
       "      <td>1995</td>\n",
       "      <td>0.1</td>\n",
       "      <td>59</td>\n",
       "      <td>...</td>\n",
       "      <td>nan</td>\n",
       "      <td>nan</td>\n",
       "      <td>nan</td>\n",
       "      <td>0.001</td>\n",
       "      <td>nan</td>\n",
       "      <td>nan</td>\n",
       "      <td>nan</td>\n",
       "      <td>nan</td>\n",
       "      <td>nan</td>\n",
       "      <td>nan</td>\n",
       "    </tr>\n",
       "    <tr>\n",
       "      <th>4069</th>\n",
       "      <td>Q16651</td>\n",
       "      <td>Prostasin</td>\n",
       "      <td>5652</td>\n",
       "      <td>Other</td>\n",
       "      <td>Homo sapiens</td>\n",
       "      <td>3DFJ 3DFL 3E0N 3E0P 3E16 3E1X 3FVF 3GYL 3GYM</td>\n",
       "      <td>Fetal Diseases | Neural Tube Defects | Placent...</td>\n",
       "      <td>2008</td>\n",
       "      <td>0.1</td>\n",
       "      <td>12</td>\n",
       "      <td>...</td>\n",
       "      <td>nan</td>\n",
       "      <td>nan</td>\n",
       "      <td>nan</td>\n",
       "      <td>0.001</td>\n",
       "      <td>nan</td>\n",
       "      <td>nan</td>\n",
       "      <td>nan</td>\n",
       "      <td>nan</td>\n",
       "      <td>nan</td>\n",
       "      <td>nan</td>\n",
       "    </tr>\n",
       "    <tr>\n",
       "      <th>4070</th>\n",
       "      <td>P39086</td>\n",
       "      <td>Glutamate receptor ionotropic kainate 1</td>\n",
       "      <td>2897</td>\n",
       "      <td>Ion_Channel</td>\n",
       "      <td>Homo sapiens</td>\n",
       "      <td>2ZNS 2ZNT 2ZNU 3FUZ 3FV1 3FV2 3FVG 3FVK 3FVN 3...</td>\n",
       "      <td>Alcoholic Intoxication | Alcoholic Intoxicatio...</td>\n",
       "      <td>2000</td>\n",
       "      <td>0.1</td>\n",
       "      <td>29</td>\n",
       "      <td>...</td>\n",
       "      <td>nan</td>\n",
       "      <td>nan</td>\n",
       "      <td>nan</td>\n",
       "      <td>nan</td>\n",
       "      <td>nan</td>\n",
       "      <td>nan</td>\n",
       "      <td>nan</td>\n",
       "      <td>nan</td>\n",
       "      <td>nan</td>\n",
       "      <td>nan</td>\n",
       "    </tr>\n",
       "    <tr>\n",
       "      <th>4071</th>\n",
       "      <td>Q9NZQ8</td>\n",
       "      <td>Transient receptor potential cation channel su...</td>\n",
       "      <td>29850</td>\n",
       "      <td>Ion_Channel</td>\n",
       "      <td>Homo sapiens</td>\n",
       "      <td>N/A</td>\n",
       "      <td>N/A</td>\n",
       "      <td>2014</td>\n",
       "      <td>1</td>\n",
       "      <td>49</td>\n",
       "      <td>...</td>\n",
       "      <td>nan</td>\n",
       "      <td>nan</td>\n",
       "      <td>nan</td>\n",
       "      <td>0.001</td>\n",
       "      <td>nan</td>\n",
       "      <td>nan</td>\n",
       "      <td>nan</td>\n",
       "      <td>nan</td>\n",
       "      <td>nan</td>\n",
       "      <td>nan</td>\n",
       "    </tr>\n",
       "    <tr>\n",
       "      <th>4072</th>\n",
       "      <td>Q9UEE5</td>\n",
       "      <td>Serine/threonine-protein kinase 17A</td>\n",
       "      <td>9263</td>\n",
       "      <td>Kinase</td>\n",
       "      <td>Homo sapiens</td>\n",
       "      <td>N/A</td>\n",
       "      <td>N/A</td>\n",
       "      <td>N/A</td>\n",
       "      <td>0.1</td>\n",
       "      <td>18</td>\n",
       "      <td>...</td>\n",
       "      <td>nan</td>\n",
       "      <td>nan</td>\n",
       "      <td>nan</td>\n",
       "      <td>nan</td>\n",
       "      <td>nan</td>\n",
       "      <td>nan</td>\n",
       "      <td>nan</td>\n",
       "      <td>nan</td>\n",
       "      <td>nan</td>\n",
       "      <td>nan</td>\n",
       "    </tr>\n",
       "  </tbody>\n",
       "</table>\n",
       "<p>4073 rows × 1405 columns</p>\n",
       "</div>"
      ],
      "text/plain": [
       "     Uniprot                                               Name Gene_ID  \\\n",
       "0     P28336                              Neuromedin B receptor    4829   \n",
       "1     Q9Y3Q0                                       NAALADase II   10003   \n",
       "2     P23467    Receptor-type tyrosine-protein phosphatase beta    5787   \n",
       "3     P30419                   Peptide N-myristoyltransferase 1    4836   \n",
       "4     P30411                             Bradykinin B2 receptor     624   \n",
       "...      ...                                                ...     ...   \n",
       "4068  P62993             Growth factor receptor-bound protein 2    2885   \n",
       "4069  Q16651                                          Prostasin    5652   \n",
       "4070  P39086            Glutamate receptor ionotropic kainate 1    2897   \n",
       "4071  Q9NZQ8  Transient receptor potential cation channel su...   29850   \n",
       "4072  Q9UEE5                Serine/threonine-protein kinase 17A    9263   \n",
       "\n",
       "     Protein_Classification      Organism  \\\n",
       "0                      GPCR  Homo sapiens   \n",
       "1                  Protease  Homo sapiens   \n",
       "2               Phosphatase  Homo sapiens   \n",
       "3              Transferases  Homo sapiens   \n",
       "4                      GPCR  Homo sapiens   \n",
       "...                     ...           ...   \n",
       "4068                  Other  Homo sapiens   \n",
       "4069                  Other  Homo sapiens   \n",
       "4070            Ion_Channel  Homo sapiens   \n",
       "4071            Ion_Channel  Homo sapiens   \n",
       "4072                 Kinase  Homo sapiens   \n",
       "\n",
       "                                                PDB_IDs  \\\n",
       "0                                                   N/A   \n",
       "1                                   3FEC 3FED 3FEE 3FF3   \n",
       "2     2AHS 2H02 2H03 2H04 2HC1 2HC2 2I3R 2I3U 2I4E 2...   \n",
       "3                    1RXT 3IU1 3IU2 3IWE 3JTK 4C2Y 4C2Z   \n",
       "4                                                   N/A   \n",
       "...                                                 ...   \n",
       "4068  1AZE 1BM2 1BMB 1CJ1 1FHS 1FYR 1GCQ 1GFC 1GFD 1...   \n",
       "4069       3DFJ 3DFL 3E0N 3E0P 3E16 3E1X 3FVF 3GYL 3GYM   \n",
       "4070  2ZNS 2ZNT 2ZNU 3FUZ 3FV1 3FV2 3FVG 3FVK 3FVN 3...   \n",
       "4071                                                N/A   \n",
       "4072                                                N/A   \n",
       "\n",
       "                                          DisGeNET_0.06  \\\n",
       "0                                     Mammary Neoplasms   \n",
       "1                                                   N/A   \n",
       "2                                       Hemangiosarcoma   \n",
       "3                                                   N/A   \n",
       "4     Rheumatoid Arthritis | Bipolar Disorder | Epil...   \n",
       "...                                                 ...   \n",
       "4068                                      Schizophrenia   \n",
       "4069  Fetal Diseases | Neural Tube Defects | Placent...   \n",
       "4070  Alcoholic Intoxication | Alcoholic Intoxicatio...   \n",
       "4071                                                N/A   \n",
       "4072                                                N/A   \n",
       "\n",
       "     ChEMBL_First_Publication Activity_Threshold Actives  ... Zanamivir  \\\n",
       "0                        1996                  1      62  ...       nan   \n",
       "1                        2004                0.1      11  ...       nan   \n",
       "2                        1999                 10     126  ...       nan   \n",
       "3                        1996                 10     276  ...       nan   \n",
       "4                         N/A                0.1     189  ...       nan   \n",
       "...                       ...                ...     ...  ...       ...   \n",
       "4068                     1995                0.1      59  ...       nan   \n",
       "4069                     2008                0.1      12  ...       nan   \n",
       "4070                     2000                0.1      29  ...       nan   \n",
       "4071                     2014                  1      49  ...       nan   \n",
       "4072                      N/A                0.1      18  ...       nan   \n",
       "\n",
       "     Zidovudine Zileuton Ziprasidone Zoledronate Zolmitriptan Zolpidem  \\\n",
       "0           nan      nan       0.085         nan          nan      nan   \n",
       "1           nan      nan         nan         nan          nan      nan   \n",
       "2           nan      nan         nan         nan          nan      nan   \n",
       "3           nan      nan         nan         nan          nan      nan   \n",
       "4           nan      nan         nan         nan          nan      nan   \n",
       "...         ...      ...         ...         ...          ...      ...   \n",
       "4068        nan      nan       0.001         nan          nan      nan   \n",
       "4069        nan      nan       0.001         nan          nan      nan   \n",
       "4070        nan      nan         nan         nan          nan      nan   \n",
       "4071        nan      nan       0.001         nan          nan      nan   \n",
       "4072        nan      nan         nan         nan          nan      nan   \n",
       "\n",
       "     Zonisamide Zopiclone Zuclopenthixol  \n",
       "0           nan       nan            nan  \n",
       "1           nan       nan            nan  \n",
       "2           nan       nan            nan  \n",
       "3           nan       nan            nan  \n",
       "4           nan       nan            nan  \n",
       "...         ...       ...            ...  \n",
       "4068        nan       nan            nan  \n",
       "4069        nan       nan            nan  \n",
       "4070        nan       nan            nan  \n",
       "4071        nan       nan            nan  \n",
       "4072        nan       nan            nan  \n",
       "\n",
       "[4073 rows x 1405 columns]"
      ]
     },
     "execution_count": 11,
     "metadata": {},
     "output_type": "execute_result"
    }
   ],
   "source": [
    "test2"
   ]
  },
  {
   "cell_type": "code",
   "execution_count": 4,
   "metadata": {
    "collapsed": false
   },
   "outputs": [],
   "source": [
    "drugs = pd.read_csv(\"drugs.txt\", delimiter=r'\\t+', engine='python')"
   ]
  },
  {
   "cell_type": "code",
   "execution_count": null,
   "metadata": {
    "collapsed": false
   },
   "outputs": [],
   "source": [
    "drugs"
   ]
  },
  {
   "cell_type": "code",
   "execution_count": 6,
   "metadata": {
    "collapsed": false
   },
   "outputs": [],
   "source": [
    "newdrugs = drugs.drop('cns_drug', axis=1).reset_index(drop=True)"
   ]
  },
  {
   "cell_type": "code",
   "execution_count": 7,
   "metadata": {
    "collapsed": false
   },
   "outputs": [
    {
     "data": {
      "text/plain": [
       "['smiles', 'generic_name']"
      ]
     },
     "execution_count": 7,
     "metadata": {},
     "output_type": "execute_result"
    }
   ],
   "source": [
    "cols = newdrugs.columns.tolist()\n",
    "cols = cols[-1:] + cols[:-1]\n",
    "cols"
   ]
  },
  {
   "cell_type": "code",
   "execution_count": 8,
   "metadata": {
    "collapsed": false
   },
   "outputs": [],
   "source": [
    "newdrugs = newdrugs[cols]"
   ]
  },
  {
   "cell_type": "code",
   "execution_count": 9,
   "metadata": {
    "collapsed": false
   },
   "outputs": [
    {
     "data": {
      "text/html": [
       "<div>\n",
       "<style scoped>\n",
       "    .dataframe tbody tr th:only-of-type {\n",
       "        vertical-align: middle;\n",
       "    }\n",
       "\n",
       "    .dataframe tbody tr th {\n",
       "        vertical-align: top;\n",
       "    }\n",
       "\n",
       "    .dataframe thead th {\n",
       "        text-align: right;\n",
       "    }\n",
       "</style>\n",
       "<table border=\"1\" class=\"dataframe\">\n",
       "  <thead>\n",
       "    <tr style=\"text-align: right;\">\n",
       "      <th></th>\n",
       "      <th>smiles</th>\n",
       "      <th>generic_name</th>\n",
       "    </tr>\n",
       "  </thead>\n",
       "  <tbody>\n",
       "    <tr>\n",
       "      <td>0</td>\n",
       "      <td>NC1=NC2=C(N=CN2[C@@H]2C[C@H](CO)C=C2)C(NC2CC2)=N1</td>\n",
       "      <td>Abacavir</td>\n",
       "    </tr>\n",
       "    <tr>\n",
       "      <td>1</td>\n",
       "      <td>None</td>\n",
       "      <td>Abarelix</td>\n",
       "    </tr>\n",
       "    <tr>\n",
       "      <td>2</td>\n",
       "      <td>None</td>\n",
       "      <td>Abatacept</td>\n",
       "    </tr>\n",
       "    <tr>\n",
       "      <td>3</td>\n",
       "      <td>None</td>\n",
       "      <td>Abciximab</td>\n",
       "    </tr>\n",
       "    <tr>\n",
       "      <td>4</td>\n",
       "      <td>CC(=O)O[C@H]1CC[C@]2(C)C3CC[C@@]4(C)C(CC=C4C4=...</td>\n",
       "      <td>Abiraterone</td>\n",
       "    </tr>\n",
       "    <tr>\n",
       "      <td>...</td>\n",
       "      <td>...</td>\n",
       "      <td>...</td>\n",
       "    </tr>\n",
       "    <tr>\n",
       "      <td>1686</td>\n",
       "      <td>CN(C)CCC1=CNC2=CC=C(C[C@H]3COC(=O)N3)C=C12</td>\n",
       "      <td>Zolmitriptan</td>\n",
       "    </tr>\n",
       "    <tr>\n",
       "      <td>1687</td>\n",
       "      <td>CN(C)C(=O)CC1=C(N=C2C=CC(C)=CN12)C1=CC=C(C)C=C1</td>\n",
       "      <td>Zolpidem</td>\n",
       "    </tr>\n",
       "    <tr>\n",
       "      <td>1688</td>\n",
       "      <td>NS(=O)(=O)CC1=NOC2=CC=CC=C12</td>\n",
       "      <td>Zonisamide</td>\n",
       "    </tr>\n",
       "    <tr>\n",
       "      <td>1689</td>\n",
       "      <td>CN1CCN(CC1)C(=O)OC1N(C(=O)C2=NC=CN=C12)C1=NC=C...</td>\n",
       "      <td>Zopiclone</td>\n",
       "    </tr>\n",
       "    <tr>\n",
       "      <td>1690</td>\n",
       "      <td>OCCN1CCN(CC\\C=C2\\C3=CC=CC=C3SC3=C2C=C(Cl)C=C3)CC1</td>\n",
       "      <td>Zuclopenthixol</td>\n",
       "    </tr>\n",
       "  </tbody>\n",
       "</table>\n",
       "<p>1691 rows × 2 columns</p>\n",
       "</div>"
      ],
      "text/plain": [
       "                                                 smiles    generic_name\n",
       "0     NC1=NC2=C(N=CN2[C@@H]2C[C@H](CO)C=C2)C(NC2CC2)=N1        Abacavir\n",
       "1                                                  None        Abarelix\n",
       "2                                                  None       Abatacept\n",
       "3                                                  None       Abciximab\n",
       "4     CC(=O)O[C@H]1CC[C@]2(C)C3CC[C@@]4(C)C(CC=C4C4=...     Abiraterone\n",
       "...                                                 ...             ...\n",
       "1686         CN(C)CCC1=CNC2=CC=C(C[C@H]3COC(=O)N3)C=C12    Zolmitriptan\n",
       "1687    CN(C)C(=O)CC1=C(N=C2C=CC(C)=CN12)C1=CC=C(C)C=C1        Zolpidem\n",
       "1688                       NS(=O)(=O)CC1=NOC2=CC=CC=C12      Zonisamide\n",
       "1689  CN1CCN(CC1)C(=O)OC1N(C(=O)C2=NC=CN=C12)C1=NC=C...       Zopiclone\n",
       "1690  OCCN1CCN(CC\\C=C2\\C3=CC=CC=C3SC3=C2C=C(Cl)C=C3)CC1  Zuclopenthixol\n",
       "\n",
       "[1691 rows x 2 columns]"
      ]
     },
     "execution_count": 9,
     "metadata": {},
     "output_type": "execute_result"
    }
   ],
   "source": [
    "newdrugs"
   ]
  },
  {
   "cell_type": "code",
   "execution_count": 10,
   "metadata": {
    "collapsed": false
   },
   "outputs": [],
   "source": [
    "newdrugs = newdrugs.dropna().reset_index(drop=True)"
   ]
  },
  {
   "cell_type": "code",
   "execution_count": 14,
   "metadata": {
    "collapsed": false
   },
   "outputs": [
    {
     "data": {
      "text/plain": [
       "1497"
      ]
     },
     "execution_count": 14,
     "metadata": {},
     "output_type": "execute_result"
    }
   ],
   "source": [
    "len(newdrugs['generic_name'].to_list())"
   ]
  },
  {
   "cell_type": "code",
   "execution_count": 12,
   "metadata": {
    "collapsed": false
   },
   "outputs": [],
   "source": [
    "newdrugs.to_csv(\"drugs.smi\", sep=' ', index=False)"
   ]
  },
  {
   "cell_type": "code",
   "execution_count": 12,
   "metadata": {
    "collapsed": false
   },
   "outputs": [
    {
     "ename": "NameError",
     "evalue": "name 'lines2' is not defined",
     "output_type": "error",
     "traceback": [
      "\u001b[0;31m\u001b[0m",
      "\u001b[0;31mNameError\u001b[0mTraceback (most recent call last)",
      "\u001b[0;32m<ipython-input-12-87fd93dba6cd>\u001b[0m in \u001b[0;36m<module>\u001b[0;34m\u001b[0m\n\u001b[1;32m      8\u001b[0m         \u001b[0;32mif\u001b[0m \u001b[0;34m(\u001b[0m\u001b[0mlen\u001b[0m\u001b[0;34m(\u001b[0m\u001b[0mtokenized_line\u001b[0m\u001b[0;34m)\u001b[0m \u001b[0;34m>\u001b[0m \u001b[0;36m1\u001b[0m\u001b[0;34m)\u001b[0m \u001b[0;32mand\u001b[0m \u001b[0;34m(\u001b[0m\u001b[0mtokenized_line\u001b[0m\u001b[0;34m[\u001b[0m\u001b[0;36m1\u001b[0m\u001b[0;34m]\u001b[0m \u001b[0;34m==\u001b[0m \u001b[0;34m'Processing'\u001b[0m\u001b[0;34m)\u001b[0m\u001b[0;34m:\u001b[0m\u001b[0;34m\u001b[0m\u001b[0;34m\u001b[0m\u001b[0m\n\u001b[1;32m      9\u001b[0m             \u001b[0mtotal_processed\u001b[0m \u001b[0;34m=\u001b[0m \u001b[0mtokenized_line\u001b[0m\u001b[0;34m[\u001b[0m\u001b[0;34m-\u001b[0m\u001b[0;36m1\u001b[0m\u001b[0;34m]\u001b[0m\u001b[0;34m.\u001b[0m\u001b[0mstrip\u001b[0m\u001b[0;34m(\u001b[0m\u001b[0;34m'\\n'\u001b[0m\u001b[0;34m)\u001b[0m\u001b[0;34m\u001b[0m\u001b[0;34m\u001b[0m\u001b[0m\n\u001b[0;32m---> 10\u001b[0;31m \u001b[0;32mfor\u001b[0m \u001b[0mindex\u001b[0m\u001b[0;34m,\u001b[0m \u001b[0mline\u001b[0m \u001b[0;32min\u001b[0m \u001b[0menumerate\u001b[0m\u001b[0;34m(\u001b[0m\u001b[0mlines2\u001b[0m\u001b[0;34m)\u001b[0m\u001b[0;34m:\u001b[0m\u001b[0;34m\u001b[0m\u001b[0;34m\u001b[0m\u001b[0m\n\u001b[0m\u001b[1;32m     11\u001b[0m     \u001b[0mlines2\u001b[0m\u001b[0;34m[\u001b[0m\u001b[0mindex\u001b[0m\u001b[0;34m]\u001b[0m \u001b[0;34m=\u001b[0m \u001b[0mline\u001b[0m\u001b[0;34m.\u001b[0m\u001b[0mreplace\u001b[0m\u001b[0;34m(\u001b[0m\u001b[0;34m'\\n'\u001b[0m\u001b[0;34m,\u001b[0m \u001b[0;34m''\u001b[0m\u001b[0;34m)\u001b[0m\u001b[0;34m.\u001b[0m\u001b[0msplit\u001b[0m\u001b[0;34m(\u001b[0m\u001b[0;34m'\\t'\u001b[0m\u001b[0;34m)\u001b[0m\u001b[0;34m\u001b[0m\u001b[0;34m\u001b[0m\u001b[0m\n\u001b[1;32m     12\u001b[0m \u001b[0mtest2\u001b[0m \u001b[0;34m=\u001b[0m \u001b[0mpd\u001b[0m\u001b[0;34m.\u001b[0m\u001b[0mDataFrame\u001b[0m\u001b[0;34m(\u001b[0m\u001b[0mlines2\u001b[0m\u001b[0;34m)\u001b[0m\u001b[0;34m\u001b[0m\u001b[0;34m\u001b[0m\u001b[0m\n",
      "\u001b[0;31mNameError\u001b[0m: name 'lines2' is not defined"
     ]
    }
   ],
   "source": [
    "rejected_smiles = []\n",
    "total_processed = None\n",
    "with open('drugs_cmdline_output.txt', 'r') as f:\n",
    "    for line in f:\n",
    "        tokenized_line = line.split(' ')\n",
    "        if (len(tokenized_line) > 1) and (tokenized_line[1] == 'SMILES'):\n",
    "            rejected_smiles.append(tokenized_line[-5])\n",
    "        if (len(tokenized_line) > 1) and (tokenized_line[1] == 'Processing'):\n",
    "            total_processed = tokenized_line[-1].strip('\\n')\n",
    "for index, line in enumerate(lines2):\n",
    "    lines2[index] = line.replace('\\n', '').split('\\t')\n",
    "test2 = pd.DataFrame(lines2)\n",
    "test2.rename(columns=test2.iloc[0]).drop(test2.index[0])"
   ]
  },
  {
   "cell_type": "code",
   "execution_count": 10,
   "metadata": {
    "collapsed": false
   },
   "outputs": [
    {
     "data": {
      "text/plain": [
       "'1389'"
      ]
     },
     "execution_count": 10,
     "metadata": {},
     "output_type": "execute_result"
    }
   ],
   "source": [
    "total_processed"
   ]
  },
  {
   "cell_type": "code",
   "execution_count": 18,
   "metadata": {
    "collapsed": false
   },
   "outputs": [],
   "source": [
    "test2 = test2.replace(['nan', np.NaN])"
   ]
  },
  {
   "cell_type": "code",
   "execution_count": 23,
   "metadata": {
    "collapsed": false
   },
   "outputs": [
    {
     "data": {
      "text/plain": [
       "3453                 0.001\n",
       "1889                 0.001\n",
       "1890                 0.001\n",
       "1891                 0.001\n",
       "1892                 0.001\n",
       "               ...        \n",
       "392     0.9642857142857143\n",
       "393     0.9642857142857143\n",
       "394     0.9642857142857143\n",
       "387     0.9642857142857143\n",
       "451     0.9642857142857143\n",
       "Name: Abiraterone, Length: 4040, dtype: object"
      ]
     },
     "execution_count": 23,
     "metadata": {},
     "output_type": "execute_result"
    }
   ],
   "source": [
    "test2['Abiraterone']"
   ]
  },
  {
   "cell_type": "code",
   "execution_count": 33,
   "metadata": {
    "collapsed": false
   },
   "outputs": [
    {
     "data": {
      "text/plain": [
       "Uniprot                                        P16591\n",
       "Name                      Tyrosine-protein kinase FER\n",
       "Gene_ID                                          2241\n",
       "Protein_Classification                         Kinase\n",
       "Organism                                 Homo sapiens\n",
       "                                     ...             \n",
       "Zolmitriptan                      0.03333333333333333\n",
       "Zolpidem                         0.027777777777777776\n",
       "Zonisamide                                      0.001\n",
       "Zopiclone                                         nan\n",
       "Zuclopenthixol                                  0.001\n",
       "Name: 392, Length: 1405, dtype: object"
      ]
     },
     "execution_count": 33,
     "metadata": {},
     "output_type": "execute_result"
    }
   ],
   "source": [
    "test2.iloc[392]"
   ]
  },
  {
   "cell_type": "code",
   "execution_count": 128,
   "metadata": {
    "collapsed": false
   },
   "outputs": [
    {
     "data": {
      "text/plain": [
       "1       nan\n",
       "2       nan\n",
       "3       nan\n",
       "4       nan\n",
       "5       nan\n",
       "       ... \n",
       "4069    nan\n",
       "4070    nan\n",
       "4071    nan\n",
       "4072    nan\n",
       "4073    nan\n",
       "Name: Sirolimus, Length: 4073, dtype: object"
      ]
     },
     "execution_count": 128,
     "metadata": {},
     "output_type": "execute_result"
    }
   ],
   "source": [
    "test4"
   ]
  },
  {
   "cell_type": "code",
   "execution_count": 257,
   "metadata": {
    "collapsed": false
   },
   "outputs": [],
   "source": [
    "import rdkit.Chem.Draw"
   ]
  },
  {
   "cell_type": "code",
   "execution_count": 264,
   "metadata": {
    "collapsed": false
   },
   "outputs": [],
   "source": [
    "Chem.Draw.MolToFile(Chem.MolFromSmiles('COC1=C(OCCCN2CCOCC2)C(C)=C2C(NC3=CC(Cl)=C(F)C=C3)=NC=NC2=C1'), \"noact.png\")"
   ]
  },
  {
   "cell_type": "code",
   "execution_count": 462,
   "metadata": {
    "collapsed": false
   },
   "outputs": [],
   "source": [
    "tpconf = pd.read_csv(\"target_prediction_confidence.csv\")"
   ]
  },
  {
   "cell_type": "code",
   "execution_count": 524,
   "metadata": {
    "collapsed": false
   },
   "outputs": [],
   "source": [
    "fda = tpconf.loc[tpconf['Collection'] == 'FDA']\n",
    "bhc = tpconf.loc[tpconf['Collection'] == 'BHC']\n",
    "cmld = tpconf.loc[tpconf['Collection'] == 'CMLD']"
   ]
  },
  {
   "cell_type": "code",
   "execution_count": 549,
   "metadata": {
    "collapsed": false
   },
   "outputs": [
    {
     "data": {
      "image/png": "[encoded data removed]",
      "text/plain": [
       "<Figure size 720x504 with 1 Axes>"
      ]
     },
     "metadata": {},
     "output_type": "display_data"
    }
   ],
   "source": [
    "fig, ax = plt.subplots(figsize=(10,7))\n",
    "plt.title(\"Target Prediction Confidence\")\n",
    "plt.scatter(s=27, x=cmld['confidence'], y=cmld['value'], label='CMLDC')\n",
    "plt.scatter(s=27, x=fda['confidence'], y=fda['value'], label='FDA')\n",
    "plt.scatter(s=27, x=bhc['confidence'], y=bhc['value'], label='BHC')\n",
    "plt.ylabel(\"Fraction of molecules with predicted target\")\n",
    "plt.xlabel(\"Prediction confidence\")\n",
    "ax.legend()\n",
    "plt.savefig(\"tpconf.png\", dpi=150)\n",
    "plt.show()"
   ]
  },
  {
   "cell_type": "code",
   "execution_count": 555,
   "metadata": {
    "collapsed": false
   },
   "outputs": [
    {
     "data": {
      "text/plain": [
       "'3.8.1 (default, Jan  8 2020, 22:29:32) \\n[GCC 7.3.0]'"
      ]
     },
     "execution_count": 555,
     "metadata": {},
     "output_type": "execute_result"
    }
   ],
   "source": [
    "import sys\n",
    "sys.version"
   ]
  }
 ],
 "metadata": {
  "kernelspec": {
   "argv": [
    "/home/zjp/anaconda3/envs/aprilpaper/bin/python",
    "-m",
    "ipykernel_launcher",
    "-f",
    "{connection_file}"
   ],
   "display_name": "Python 3",
   "env": null,
   "interrupt_mode": "signal",
   "language": "python",
   "metadata": null,
   "name": "python3"
  },
  "name": "analysis.ipynb"
 },
 "nbformat": 4,
 "nbformat_minor": 4
}
