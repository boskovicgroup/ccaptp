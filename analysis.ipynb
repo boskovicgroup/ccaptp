{
 "cells": [
  {
   "cell_type": "code",
   "execution_count": 1,
   "metadata": {
    "collapsed": false
   },
   "outputs": [
    {
     "name": "stderr",
     "output_type": "stream",
     "text": [
      "RDKit WARNING: [14:36:46] Enabling RDKit 2019.09.3 jupyter extensions\n"
     ]
    }
   ],
   "source": [
    "from __future__ import print_function\n",
    "import csv\n",
    "import importlib.util\n",
    "from rdkit import Chem\n",
    "from rdkit import DataStructs\n",
    "from rdkit.Chem.Fingerprints import FingerprintMols\n",
    "from rdkit.Chem import Draw\n",
    "from rdkit.Chem import Crippen\n",
    "from rdkit.Chem import Lipinski\n",
    "from rdkit.Chem.Draw import DrawingOptions\n",
    "from rdkit.Chem import AllChem\n",
    "from rdkit.Chem.Draw import IPythonConsole\n",
    "from rdkit.Chem import GraphDescriptors\n",
    "from rdkit.Chem.Descriptors import ExactMolWt\n",
    "from enum import Enum\n",
    "import numpy as np\n",
    "import scipy.stats as stats\n",
    "import statistics\n",
    "import math\n",
    "import string\n",
    "import pandas as pd\n",
    "import matplotlib\n",
    "import matplotlib.pyplot as plt\n",
    "import bottchercomplexity as bcf\n",
    "plt.rcParams['figure.facecolor'] = 'white'\n",
    "plt.rcParams['figure.figsize'] = 12, 8\n",
    "plt.rcParams['lines.markersize'] = 3\n",
    "plt.rcParams['lines.linewidth'] = 0.8\n",
    "plt.rcParams['font.size'] = 12\n",
    "plt.rc('text', usetex=True)"
   ]
  },
  {
   "cell_type": "code",
   "execution_count": 2,
   "metadata": {
    "collapsed": false
   },
   "outputs": [],
   "source": [
    "#####################\n",
    "#                   #\n",
    "# Loading Resources #\n",
    "#                   #\n",
    "#####################"
   ]
  },
  {
   "cell_type": "code",
   "execution_count": 3,
   "metadata": {
    "collapsed": false
   },
   "outputs": [],
   "source": [
    "cols = ['Barcode','Researcher','Notebook','Page','Smiles','Comments','MW(amu)','MPLOWER','MPUPPER','CardMissing','Notes','LabelNotes']\n",
    "poster_data = pd.read_csv(\"MIKI/BurckhalterDatabase.csv\", engine='python', names=cols)\n",
    "new_data = pd.read_csv(\"BurckhalterDatabase.csv\", engine='python', names=cols)\n",
    "cmld_data = pd.read_csv(\"MIKI/cmld.csv\")"
   ]
  },
  {
   "cell_type": "code",
   "execution_count": 4,
   "metadata": {
    "collapsed": false
   },
   "outputs": [],
   "source": [
    "#####################\n",
    "#                   #\n",
    "#  Data Interfaces  #\n",
    "#                   #\n",
    "#####################"
   ]
  },
  {
   "cell_type": "code",
   "execution_count": 227,
   "metadata": {
    "collapsed": false
   },
   "outputs": [],
   "source": [
    "class LibraryError(Exception):\n",
    "    def __init__(self, value):\n",
    "        self.value = value\n",
    "    def __str__(self):\n",
    "        return repr(self.value)\n",
    "\n",
    "class Library:\n",
    "    def __init__(self, data):\n",
    "        self.raw_data = data\n",
    "        self.smiles = self.smilesToList()\n",
    "        self.molecules = []\n",
    "        for entry in self.smiles:\n",
    "            if entry is not None:\n",
    "                temp = Chem.MolFromSmiles(entry)\n",
    "                if temp is not None:\n",
    "                    self.molecules.append(temp)\n",
    "        self.avgWeight, self.weightstdev, self.molecular_weights = self.getWeightStats()\n",
    "        self.avgSim, self.fpstdev, self.similarities = self.compareAllFingerprints()\n",
    "        self.avgCompBertzCT, self.compstdevbertz, self.complexities_bertz = self.getBertzCTComplexityStats()\n",
    "        # self.avgCompBcf, self.compstdevbcf, self.complexities_bottcher = self.getBottcherComplexityStats()\n",
    "        self.avgclogp, self.clogpstdev, self.clogps = self.getClogpStats()\n",
    "        self.avghdonors, self.avghdonors, self.hdonors = self.getHDonorStats()\n",
    "        self.avghacceptors, self.avghacceptors, self.hacceptors = self.getHAcceptorStats()\n",
    "\n",
    "    def __filterSmiles():\n",
    "        return None\n",
    "\n",
    "    def smilesToList(self):\n",
    "        smiles_processed = []\n",
    "        temp = self.raw_data.dropna(subset=['Smiles']).reset_index(drop=True)['Smiles'].to_list()\n",
    "        # Filter Errors\n",
    "        for i in temp:\n",
    "            if ' ' in i.strip(' ') or len(i) == 0: pass\n",
    "            else: smiles_processed.append(i)\n",
    "        return smiles_processed\n",
    "\n",
    "    def compareAllFingerprints(self):\n",
    "        # The average Tanimoto similarity between any two molecules M and N excluding the\n",
    "        # similarity between M and M \n",
    "        fprints = [FingerprintMols.FingerprintMol(x) for x in self.molecules]\n",
    "        fpcompare = []\n",
    "        for i in range(0, len(fprints)):\n",
    "            for j in range(i+1, len(fprints)):\n",
    "                fpcompare.append(DataStructs.FingerprintSimilarity(fprints[i],fprints[j]))\n",
    "        tempavgSim = 0\n",
    "        for i in fpcompare:\n",
    "            tempavgSim += i\n",
    "        corrected = []\n",
    "        for i in fpcompare:\n",
    "            corrected.append(i*100)\n",
    "        return (tempavgSim/(len(fprints)-1)), statistics.stdev(corrected), corrected\n",
    "\n",
    "    def getWeightStats(self):\n",
    "        if(self.molecular_weights is None):\n",
    "            molecular_weights = []\n",
    "            for i in self.molecules:\n",
    "                molecular_weights.append(ExactMolWt(i))\n",
    "            avg = 0\n",
    "            for i in molecular_weights:\n",
    "                avg += i/(len(molecular_weights))\n",
    "            stddev = statistics.stdev(molecular_weights)\n",
    "            return avg, stddev, molecular_weights\n",
    "        else:\n",
    "            return self.avgWeight, self.weightstdev, self.molecular_weights\n",
    "\n",
    "    def getClogpStats(self):\n",
    "        if(self.clogps is None):\n",
    "            clogps = []\n",
    "            for i in self.molecules:\n",
    "                clogps.append(Crippen.MolLogP(i))\n",
    "            avg = 0\n",
    "            for i in clogps:\n",
    "                avg += i / (len(clogps))\n",
    "            stddev = statistics.stdev(clogps)\n",
    "            return avg, stddev, clogps\n",
    "        else:\n",
    "            return self.avgclogp, self.clogpstdev, self.clogps\n",
    "\n",
    "    def getBottcherComplexityStats(self):\n",
    "        complexities = []\n",
    "        for i in self.molecules:\n",
    "            print(str(i))\n",
    "            complexities.append(bcf.GetBottcherComplexity(i))\n",
    "        avg = 0\n",
    "        for i in complexities:\n",
    "            avg += i/(len(complexities))\n",
    "        stddev = statistics.stdev(complexities)\n",
    "        return avg, stddev, complexities\n",
    "\n",
    "    def getBertzCTComplexityStats(self):\n",
    "        if(self.complexities_bertz is None):\n",
    "            complexities = []\n",
    "            for i in self.molecules:\n",
    "                complexities.append(Chem.GraphDescriptors.BertzCT(i))\n",
    "            avg = 0\n",
    "            for i in complexities:\n",
    "                avg += i/(len(complexities))\n",
    "            stddev = statistics.stdev(complexities)\n",
    "            return avg, stddev, complexities\n",
    "        else:\n",
    "            return self.avgCompBertzCT, self.compstdevbertz, self.complexities_bertz\n",
    "\n",
    "    def getHDonorStats(self):\n",
    "        if(self.hdonors is None):\n",
    "            hdonors = []\n",
    "            for i in self.molecules:\n",
    "                hdonors.append(Lipinski.NumHDonors(i))\n",
    "            avg = 0\n",
    "            for i in hdonors:\n",
    "                avg += i/(len(hdonors))\n",
    "            stddev = statistics.stdev(hdonors)\n",
    "            return avg, stddev, hdonors\n",
    "        else:\n",
    "            return self.avghdonors, self.hdonorstdev, self.hdonors\n",
    "\n",
    "    def getHAcceptorStats(self):\n",
    "        if(self.hacceptors is None):\n",
    "            hacceptors = []\n",
    "            for i in self.molecules:\n",
    "                hacceptors.append(Lipinski.NumHAcceptors(i))\n",
    "            avg = 0\n",
    "            for i in hacceptors:\n",
    "                avg += i/(len(hacceptors))\n",
    "            stddev = statistics.stdev(hacceptors)\n",
    "            return avg, stddev, hacceptors\n",
    "        else:\n",
    "            return self.avghacceptors, self.hacceptorstdev, self.hacceptors\n",
    "\n",
    "    def __repr__(self):\n",
    "        return \"Library\"\n",
    "\n",
    "\n",
    "    raw_data = None\n",
    "\n",
    "    # Postprocessed Data\n",
    "    smiles = None\n",
    "    molecules = None\n",
    "\n",
    "    # Statistics\n",
    "    hdonors = None\n",
    "    avghdonors = None\n",
    "    hdonorstdev = None\n",
    "\n",
    "    hacceptors = None\n",
    "    avghacceptors = None\n",
    "    hacceptorstdev = None\n",
    "\n",
    "    similarities = None\n",
    "    avgSim = None\n",
    "    fpstdev = None\n",
    "\n",
    "    complexities_bertz = None\n",
    "    avgCompBertzCT = None\n",
    "    compstdevbertz = None\n",
    "\n",
    "    complexities_bottcher = None\n",
    "    avgCompBcf = None\n",
    "    compstdevbcf = None\n",
    "\n",
    "    molecular_weights = None\n",
    "    avgWeight = None\n",
    "    weightstdev = None\n",
    "\n",
    "    clogps = None\n",
    "    avgclogp = None\n",
    "    clogpstdev = None\n"
   ]
  },
  {
   "cell_type": "code",
   "execution_count": 241,
   "metadata": {
    "collapsed": false
   },
   "outputs": [],
   "source": [
    "class BurckData:\n",
    "    def __init__(self, poster_data, new_data, cmld_data):\n",
    "\n",
    "        if(isinstance(poster_data, Library)):\n",
    "            self.poster_lib = poster_data\n",
    "        else:\n",
    "            self.poster_lib = Library(poster_data)\n",
    "        if(isinstance(new_data, Library)):\n",
    "            self.new_lib = new_data\n",
    "        else:\n",
    "            self.new_lib = Library(new_data)\n",
    "        if(isinstance(cmld_data, Library)):\n",
    "            self.cmld_lib = cmld_data\n",
    "        else:\n",
    "            self.cmld_lib = Library(cmld_data)\n",
    "\n",
    "    def fmtTitle(self, titlestr, liblbl, nummols):\n",
    "            title = titlestr + \" in \"\n",
    "            if liblbl == 'MIKI':\n",
    "                title = title + \" the \"\n",
    "            else:\n",
    "                title = title + \" a \"\n",
    "            title = title + str(nummols) + \"-Member \" + liblbl + \" Subset\"\n",
    "            return title\n",
    "\n",
    "    def getLib(self, lib):\n",
    "        if lib == 'poster':\n",
    "            return self.poster_lib, \"MIKI\"\n",
    "        elif lib == 'burck':\n",
    "            return self.new_lib, \"BHC\"\n",
    "        elif lib == 'cmld':\n",
    "            return self.cmld_lib, \"CMLDC\"\n",
    "        else:\n",
    "            raise LibraryError(\"Could not find library.\")\n",
    "\n",
    "    def getSmiles(self, lib):\n",
    "        try:\n",
    "            temp = self.getLib(lib).smiles\n",
    "            return temp\n",
    "        except LibraryError:\n",
    "            print(\"Got it!\")\n",
    "\n",
    "    def getMolecules(self, lib):\n",
    "        try:\n",
    "            temp = self.getLib(lib).molecules\n",
    "            return temp\n",
    "        except LibraryError:\n",
    "            print(\"Got it!\")\n",
    "\n",
    "    def getNumSmiles(self, lib):\n",
    "        try:\n",
    "            temp = self.getLib(lib).smiles\n",
    "            return len(temp)\n",
    "        except LibraryError:\n",
    "            print(\"Aborting...\")\n",
    "\n",
    "    def getNumMolecules(self, lib):\n",
    "        try:\n",
    "            temp = self.getLib(lib).molecules\n",
    "            return len(temp)\n",
    "        except LibraryError:\n",
    "            print(\"Aborting...\")\n",
    "\n",
    "    def validatedMolToCsv(self, lib):\n",
    "        \"\"\"Return a CSV representation of every molecule in the library if and only if RDKIT\n",
    "        was able to process it.\"\"\"\n",
    "        pass\n",
    "\n",
    "    def getFunction(self, lib, param):\n",
    "        if(param == 'weight'):\n",
    "            return lib.getWeightStats()\n",
    "        elif(param == 'hacceptors'):\n",
    "            return lib.getHAcceptorStats()\n",
    "        elif(param == 'hdonors'):\n",
    "            return lib.getHDonorStats()\n",
    "        elif(param == 'clogps'):\n",
    "            return lib.getClogpStats()\n",
    "        elif(param == 'bertzct'):\n",
    "            return lib.getBertzCTComplexityStats()\n",
    "\n",
    "        else:\n",
    "            return None\n",
    "\n",
    "    def __formatAxes(self, ax, gtype, maxval, param, **kwargs):\n",
    "        if(kwargs['inc_title'] if 'inc_title' in kwargs else False):\n",
    "            ax.set_title(self.fmtTitle(kwargs['title'] if 'title' in kwargs else \"MISSING TITLE\", liblbl, len(param)))\n",
    "        if param == 'hacceptors' or param == 'hdonors':\n",
    "            xrange = np.arange(0, math.ceil(maxval)+1, 1)\n",
    "            ax.set_xticks(xrange)\n",
    "        ax.set_xlabel(kwargs['xlabel'] if 'xlabel' in kwargs else \"MISSING XLABEL\")\n",
    "        if(gtype == 'boxplot'):\n",
    "            ax.set_yticklabels([kwargs['ylabel']], rotation=45)\n",
    "        else:\n",
    "            ax.set_ylabel(kwargs['ylabel'] if 'ylabel' in kwargs else \"MISSING YLABEL\")\n",
    "\n",
    "    def __getHistogram(self, lib, param, ax, **kwargs):\n",
    "        temp, liblbl = self.getLib(lib)\n",
    "        avg, stdev, param = self.getFunction(temp, param)\n",
    "        ax.hist(param, histtype='barstacked',\n",
    "                bins= kwargs['bins'] if 'bins' in kwargs else int(max(param)) if int(max(param)) < 50 else 50,\n",
    "                density = kwargs['density'] if 'density' in kwargs else True,\n",
    "                alpha = float(kwargs['alpha']) if 'alpha' in kwargs else 1,\n",
    "                label=liblbl,\n",
    "                align='mid')\n",
    "        self.__formatAxes(ax, 'histogram', max(param), param, **kwargs)\n",
    "\n",
    "    def __getBoxplot(self, lib, param, ax, **kwargs):\n",
    "        temp, liblbl = self.getLib(lib)\n",
    "        avg, stdev, values = self.getFunction(temp, param)\n",
    "        ax.boxplot(values,\n",
    "                   vert=kwargs['vert'] if 'vert' in kwargs else False,\n",
    "                   showfliers=kwargs['showfliers'] if 'showfliers' in kwargs else False)\n",
    "\n",
    "        if(kwargs['mask_outliers'] if 'mask_outliers' in kwargs else True):\n",
    "            upper_quartile = np.percentile(values, 75) + (kwargs['mask_offset'] if 'mask_offset' in kwargs else 1)\n",
    "            outlier_mask = [value for value in values if value > upper_quartile]\n",
    "            x = np.random.normal(1, 0.04, size=len(outlier_mask))\n",
    "            ax.scatter(outlier_mask, x, alpha=0.2)\n",
    "        self.__formatAxes(ax, 'boxplot', param, max(values), ylabel=liblbl, xlabel=None, **kwargs)\n",
    "\n",
    "    def __getDistribution(self, lib, param, ax, **kwargs):\n",
    "        try:\n",
    "            temp, liblbl = self.getLib(lib)\n",
    "            avg, stdev, values = self.getFunction(temp, param)\n",
    "            temp.getFingerprintSimilarityAverage()\n",
    "            x_axis = np.arange(kwargs['dist_xmin'] if 'dist_xmin' in kwargs else -10,\n",
    "                               kwargs['dist_xmax'] if 'dist_xmax' in kwargs else 100,\n",
    "                               kwargs['dist_jump'] if 'dist_jump' in kwargs else 1)\n",
    "            ax.plot(x_axis, stats.norm.pdf(x_axis, avg*100, stdev))\n",
    "            if 'title' in kwargs:\n",
    "                ax.set_title(self.fmtTitle(kwargs['title'] if 'title' in kwargs else \"MISSING TITLE\", liblbl, len(param)))\n",
    "            plt.title(self.fmtTitle(\"Similarity Between Molecule 1 and Others\", liblbl, len(temp.molecules)))\n",
    "            plt.xlabel(\"Similarity Score\")\n",
    "            plt.ylabel(\"Fraction of Molecules with Score\")\n",
    "            if path is not None:\n",
    "                plt.savefig(path)\n",
    "        except LibraryError:\n",
    "            pass\n",
    "\n",
    "    def getPlot(self, gtype, lib, param, ax, **kwargs):\n",
    "        try:\n",
    "            if(isinstance(lib, list)):\n",
    "                for entry in lib:\n",
    "                    if(gtype == 'histogram'):\n",
    "                        self.__getHistogram(entry, param, ax, **kwargs)\n",
    "                    if(gtype == 'boxplot'):\n",
    "                        self.__getBoxplot(entry, param, ax, **kwargs)\n",
    "                    if(gtype == 'distribution'):\n",
    "                        self.__getDistribution(entry, param, ax, **kwargs)\n",
    "            else:\n",
    "                if(gtype == 'histogram'):\n",
    "                    self.__getHistogram(lib, param, ax, **kwargs)\n",
    "                if(gtype == 'boxplot'):\n",
    "                    self.__getBoxplot(lib, param, ax, **kwargs)\n",
    "                if(gtype == 'distribution'):\n",
    "                    self.__getDistribution(lib, param, ax, **kwargs)\n",
    "        except LibraryError:\n",
    "            pass\n",
    "\n",
    "    def getSimilarityDistribution(self, lib, path=None):\n",
    "        try:\n",
    "            temp, liblbl = self.getLib(lib)\n",
    "            temp.getFingerprintSimilarityAverage()\n",
    "            title = \"Similarity Between Molecule 1 and Others in \"\n",
    "            plt.title(self.fmtTitle(\"Similarity Between Molecule 1 and Others\", liblbl, len(temp.molecules)))\n",
    "            plt.xlabel(\"Similarity Score\")\n",
    "            plt.ylabel(\"Fraction of Molecules with Score\")\n",
    "            if path is not None:\n",
    "                plt.savefig(path)\n",
    "        except LibraryError:\n",
    "            pass\n",
    "\n",
    "    def getComplexityDistribution(self, lib, path=None):\n",
    "        try:\n",
    "            temp, liblbl = self.getLib(lib)\n",
    "            avg, stdev, complexities = temp.getComplexityStats()\n",
    "            x_axis = np.arange(-1000, 3000, 1)\n",
    "            fig = plt.figure()\n",
    "            plt.plot(x_axis, stats.norm.pdf(x_axis, avg, stdev))\n",
    "            plt.title(self.fmtTitle(\"Complexity Distribution of Molecules\", liblbl, len(complexities)))\n",
    "            plt.xlabel(\"Complexity\")\n",
    "            plt.ylabel(\"Fraction of Molecules with Score\")\n",
    "            if path is not None:\n",
    "                plt.savefig(path)\n",
    "        except LibraryError:\n",
    "            pass\n",
    "\n",
    "    def getClogPDistribution(self, lib, **kwargs):\n",
    "        try:\n",
    "            temp, liblbl = self.getLib(lib)\n",
    "            avg, stdev, clogps = temp.getClogPStats()\n",
    "            x_axis = np.arange(-10, 20, 1)\n",
    "            fig = plt.figure()\n",
    "            plt.plot(x_axis, stats.norm.pdf(x_axis, avg, stdev))\n",
    "            plt.title(self.fmtTitle(\"CLogP values of Molecules\", liblbl, len(clogps)))\n",
    "            plt.xlabel(\"clogp\")\n",
    "            plt.ylabel(\"Fraction of Molecules with Score\")\n",
    "            if path in kwargs:\n",
    "                plt.savefig(path)\n",
    "        except LibraryError:\n",
    "            pass\n",
    "\n",
    "    # Libraries\n",
    "    poster_lib = None\n",
    "    new_lib = None\n",
    "    cmld_lib = None\n"
   ]
  },
  {
   "cell_type": "code",
   "execution_count": 7,
   "metadata": {
    "collapsed": false
   },
   "outputs": [],
   "source": [
    "class PIDGINData:\n",
    "    def __init__(self, data, cmdline_output):\n",
    "        self.raw_data_file = data\n",
    "        self.cmdline_out = cmdline_output\n",
    "        self.rejected_smiles = []\n",
    "        self.rejected_smiles_indices = []\n",
    "        results = []\n",
    "        with open(data, 'r') as f:\n",
    "            for line in f:\n",
    "                results.append(line)\n",
    "        for index, line in enumerate(results):\n",
    "            results[index] = line.replace('\\n', '').split('\\t')\n",
    "        temp = pd.DataFrame(results)\n",
    "        self.processed_data = temp.rename(columns=temp.iloc[0]).drop(temp.index[0]).reset_index(drop=True)\n",
    "        self.total_processed = 0\n",
    "        with open(cmdline_output, 'r') as f:\n",
    "            for line in f:\n",
    "                tokenized_line = line.split(' ')\n",
    "                if (len(tokenized_line) > 1) and (tokenized_line[1] == 'SMILES'):\n",
    "                    self.rejected_smiles_indices.append(tokenized_line[-5])\n",
    "                    self.rejected_smiles.append(tokenized_line[-1])\n",
    "                if (len(tokenized_line) > 1) and (tokenized_line[1] == 'Processing'):\n",
    "                    self.total_processed = tokenized_line[-1].strip('\\n')\n",
    "        self.processed_data = self.processed_data.replace('nan', np.NaN)\n",
    "\n",
    "    def getActivityByName(self, mol_name, threshold = 0.0):\n",
    "        try:\n",
    "            rows = self.processed_data[mol_name].dropna().index.tolist()\n",
    "            this_drug = self.processed_data.iloc[rows]\n",
    "            metadata = this_drug.loc[:,'Uniprot':'Model_ID'].copy(deep=True)\n",
    "            metadata[mol_name] = this_drug[mol_name]\n",
    "            return metadata\n",
    "        except KeyError:\n",
    "            print(\"Molecule \" + mol_name + \" not found. It was probably rejected by PIDGIN.\")\n",
    "            return None\n",
    "\n",
    "    raw_data_file = None\n",
    "    processed_data = 0\n",
    "    cmdline_out = None\n",
    "    rejected_smiles = None\n",
    "    rejected_smiles_indices = None\n",
    "    total_processed = None\n"
   ]
  },
  {
   "cell_type": "code",
   "execution_count": null,
   "metadata": {
    "collapsed": false
   },
   "outputs": [],
   "source": [
    "##########################################\n",
    "#                                        #\n",
    "# Compound Collection Figures Start Here #\n",
    "#                                        #\n",
    "##########################################"
   ]
  },
  {
   "cell_type": "code",
   "execution_count": 228,
   "metadata": {
    "collapsed": false
   },
   "outputs": [],
   "source": [
    "poster = Library(poster_data)\n",
    "burck = Library(new_data)\n",
    "cmld = Library(cmld_data)"
   ]
  },
  {
   "cell_type": "code",
   "execution_count": 250,
   "metadata": {
    "collapsed": false
   },
   "outputs": [],
   "source": [
    "libraries = BurckData(poster, burck, cmld)"
   ]
  },
  {
   "cell_type": "code",
   "execution_count": 237,
   "metadata": {
    "collapsed": false
   },
   "outputs": [],
   "source": [
    "def generatePaperFigure(libs, param, **kwargs):\n",
    "    x_label = kwargs['xlabel'] if 'xlabel' in kwargs else \"MISSING XLABEL\"\n",
    "    y_label = kwargs['ylabel'] if 'ylabel' in kwargs else \"MISSING YLABEL\"\n",
    "    alpha = kwargs['alpha'] if 'alpha' in kwargs else 0.5\n",
    "    offset = kwargs['mask_offset'] if 'mask_offset' in kwargs else 1\n",
    "    fig, axs = plt.subplots(4,1,figsize=(10,12), sharex=True)\n",
    "    axs[0].xaxis.set_tick_params(which='both', labelbottom='True')\n",
    "    axs[1].xaxis.set_tick_params(which='both', labelbottom='True')\n",
    "    gs = axs[1].get_gridspec()\n",
    "    for ax in axs[2:]:\n",
    "        ax.remove()\n",
    "    axbig = fig.add_subplot(gs[2:])\n",
    "    plt.suptitle(kwargs['title'] if 'title' in kwargs else \"MISSING TITLE\", x=0.5, y=0.9)\n",
    "    libraries.getPlot('boxplot', libs[0], param, axs[0], mask_offset=offset)\n",
    "    libraries.getPlot('boxplot', libs[1], param, axs[1], mask_offset=offset)\n",
    "    libraries.getPlot('histogram', libs, param, axbig,\n",
    "                           alpha=alpha,\n",
    "                           xlabel=x_label,\n",
    "                           ylabel=y_label)\n",
    "    axbig.legend()"
   ]
  },
  {
   "cell_type": "code",
   "execution_count": 279,
   "metadata": {
    "collapsed": false
   },
   "outputs": [],
   "source": [
    "def generateDistributionFigure(libs, param, **kwargs):\n",
    "    x_label = kwargs['xlabel'] if 'xlabel' in kwargs else \"MISSING XLABEL\"\n",
    "    y_label = kwargs['ylabel'] if 'ylabel' in kwargs else \"MISSING YLABEL\"\n",
    "    fig, axs = plt.subplots(1,1,figsize=(12,10), sharex=True)\n",
    "    plt.suptitle(kwargs['title'] if 'title' in kwargs else \"MISSING TITLE\", x=0.5, y=0.9)\n",
    "    libraries.getPlot('distribution', libs[0], param, axs)\n",
    "    axs.legend()"
   ]
  },
  {
   "cell_type": "code",
   "execution_count": null,
   "metadata": {
    "collapsed": false
   },
   "outputs": [],
   "source": [
    "\n",
    "generateDistributionFigure(['burck'], 'clogps',\n",
    "                           title=\"Distribution of Tanimoto Similariy Scores in Two Collections\",\n",
    "                           ylabel=\"Probability A Pair Will Have Some Score\",\n",
    "                           xlabel=\"Similarity Score\")"
   ]
  },
  {
   "cell_type": "code",
   "execution_count": null,
   "metadata": {
    "collapsed": false
   },
   "outputs": [],
   "source": [
    "# Polar Surface Area"
   ]
  },
  {
   "cell_type": "code",
   "execution_count": null,
   "metadata": {
    "collapsed": false
   },
   "outputs": [],
   "source": [
    "# Fraction SP3 Atoms\n",
    "# ClogPs\n",
    "generatePaperFigure(['burck', 'cmld'],\n",
    "                    'sp3hyb',\n",
    "                    title=\"SP3 Hybridization Fractions in Two Collections\",\n",
    "                    mask_offset=4,\n",
    "                    xlabel=\"Fraction SP3 Hybridized Atoms\",\n",
    "                    ylabel=\"Fraction of Molecules with Score\"\n",
    "                    )"
   ]
  },
  {
   "cell_type": "code",
   "execution_count": null,
   "metadata": {
    "collapsed": false
   },
   "outputs": [],
   "source": [
    "# ClogPs\n",
    "generatePaperFigure(['burck', 'cmld'],\n",
    "                    'clogps',\n",
    "                    title=\"CLogP Values in Two Collections\",\n",
    "                    mask_offset=4,\n",
    "                    xlabel=\"CLogP Value\",\n",
    "                    ylabel=\"Fraction of Molecules with Score\"\n",
    "                    )"
   ]
  },
  {
   "cell_type": "code",
   "execution_count": null,
   "metadata": {
    "collapsed": false
   },
   "outputs": [],
   "source": [
    "# H Donors\n",
    "generatePaperFigure(['burck', 'cmld'], 'hdonors',\n",
    "                    title=\"Number of Hydrogen-Bond Donors in Two Collections\",\n",
    "                    xlabel=\"Number of H=Bond Donors\",\n",
    "                    ylabel=\"Fraction of Molecules with Score\")\n"
   ]
  },
  {
   "cell_type": "code",
   "execution_count": null,
   "metadata": {
    "collapsed": false
   },
   "outputs": [],
   "source": [
    "# H Acceptors\n",
    "generatePaperFigure(['burck', 'cmld'], 'hacceptors',\n",
    "                    title=\"Number of Hydrogen-Bond Acceptors in Two Collections\",\n",
    "                    mask_offset = 3,\n",
    "                    xlabel=\"Number of H=Bond Acceptors\",\n",
    "                    ylabel=\"Fraction of Molecules with Score\")\n"
   ]
  },
  {
   "cell_type": "code",
   "execution_count": null,
   "metadata": {
    "collapsed": false
   },
   "outputs": [],
   "source": [
    "# Weight\n",
    "generatePaperFigure(['burck', 'cmld'], 'weight',\n",
    "                    title=\"Molecular Weight in Two Collections\",\n",
    "                    mask_offset = 200,\n",
    "                    xlabel=\"Molecular Weight\",\n",
    "                    ylabel=\"Fraction of Molecules with Molecular Weight\")"
   ]
  },
  {
   "cell_type": "code",
   "execution_count": null,
   "metadata": {
    "collapsed": false
   },
   "outputs": [],
   "source": [
    "# Complexity, BertzCT\n",
    "generatePaperFigure(['burck', 'cmld'], 'bertzct',\n",
    "                    title=\"BertzCT Complexity Scores in Two Collections\",\n",
    "                    mask_offset = 650,\n",
    "                    xlabel=\"Complexity (BertzCT)\",\n",
    "                    ylabel=\"Fraction of Molecules with Score\")"
   ]
  },
  {
   "cell_type": "code",
   "execution_count": null,
   "metadata": {
    "collapsed": false
   },
   "outputs": [],
   "source": []
  },
  {
   "cell_type": "code",
   "execution_count": null,
   "metadata": {
    "collapsed": false
   },
   "outputs": [],
   "source": [
    "tpconf = pd.read_csv(\"target_prediction_confidence.csv\")\n",
    "fda = tpconf.loc[tpconf['Collection'] == 'FDA']\n",
    "bhc = tpconf.loc[tpconf['Collection'] == 'BHC']\n",
    "cmld = tpconf.loc[tpconf['Collection'] == 'CMLD']\n",
    "fig, ax = plt.subplots(figsize=(10,7))\n",
    "plt.title(\"Target Prediction Confidence\")\n",
    "plt.scatter(s=27, x=cmld['confidence'], y=cmld['value'], label='CMLDC')\n",
    "plt.scatter(s=27, x=fda['confidence'], y=fda['value'], label='FDA')\n",
    "plt.scatter(s=27, x=bhc['confidence'], y=bhc['value'], label='BHC')\n",
    "plt.ylabel(\"Fraction of molecules with predicted target\")\n",
    "plt.xlabel(\"Prediction confidence\")\n",
    "ax.legend()\n",
    "plt.show()"
   ]
  },
  {
   "cell_type": "code",
   "execution_count": null,
   "metadata": {
    "collapsed": false
   },
   "outputs": [],
   "source": [
    "##################################\n",
    "#                                #\n",
    "# Discovery of Average Molecules #\n",
    "#                                #\n",
    "##################################"
   ]
  },
  {
   "cell_type": "code",
   "execution_count": null,
   "metadata": {
    "collapsed": false
   },
   "outputs": [],
   "source": []
  },
  {
   "cell_type": "code",
   "execution_count": 673,
   "metadata": {
    "collapsed": false
   },
   "outputs": [],
   "source": [
    "###########################################\n",
    "#                                         #\n",
    "#    PIDGIN-Related Figures Start Here    #\n",
    "#                                         #\n",
    "###########################################"
   ]
  },
  {
   "cell_type": "code",
   "execution_count": 287,
   "metadata": {
    "collapsed": false
   },
   "outputs": [],
   "source": [
    "#burck = PIDGINData()\n",
    "drugs = PIDGINData(\"drugs_pred.txt\", \"drugs_cmdline_output.txt\")\n",
    "#cmld = PIDGINData()\n",
    "gefitinib = PIDGINData(\"gefitinib.txt\", \"gefitinib_cmdline_output.txt\")"
   ]
  },
  {
   "cell_type": "code",
   "execution_count": null,
   "metadata": {
    "collapsed": false
   },
   "outputs": [],
   "source": [
    "gefitinib.getActivityByName(\"gefitinib\")"
   ]
  }
 ],
 "metadata": {
  "kernelspec": {
   "argv": [
    "/home/zjp/anaconda3/envs/aprilpaper/bin/python",
    "-m",
    "ipykernel_launcher",
    "-f",
    "{connection_file}"
   ],
   "display_name": "Python 3",
   "env": null,
   "interrupt_mode": "signal",
   "language": "python",
   "metadata": null,
   "name": "python3"
  },
  "name": "analysis.ipynb"
 },
 "nbformat": 4,
 "nbformat_minor": 4
}
